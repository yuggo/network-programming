{
 "cells": [
  {
   "cell_type": "code",
   "execution_count": null,
   "metadata": {},
   "outputs": [],
   "source": [
    "%load_ext autoreload\n",
    "%autoreload 2"
   ]
  },
  {
   "cell_type": "code",
   "execution_count": null,
   "metadata": {},
   "outputs": [],
   "source": [
    "import logging\n",
    "import time\n",
    "import socket\n",
    "from crawler import *\n",
    "from lib import *\n",
    "from base64 import b32encode\n",
    "import sqlite3"
   ]
  },
  {
   "cell_type": "markdown",
   "metadata": {},
   "source": [
    "# Improving our `listener` from last time\n",
    "\n",
    "Where we left off last time"
   ]
  },
  {
   "cell_type": "code",
   "execution_count": null,
   "metadata": {},
   "outputs": [],
   "source": [
    "from lib import *\n",
    "\n",
    "def listener(address):\n",
    "    # Establish connection\n",
    "    sock = handshake(address)\n",
    "    stream = sock.makefile(\"rb\")\n",
    "    \n",
    "    # Print every gossip message we receive\n",
    "    while True:\n",
    "        print(read_msg(stream)['command'])"
   ]
  },
  {
   "cell_type": "code",
   "execution_count": null,
   "metadata": {},
   "outputs": [],
   "source": [
    "ADDRESS = ['grab one from https://bitnodes.earn.com/nodes/', 8333]\n",
    "\n",
    "listener(ADDRESS)"
   ]
  },
  {
   "cell_type": "markdown",
   "metadata": {},
   "source": [
    "Press the &#9632; button to kill the cell above.\n",
    "\n",
    "This just connects to a node and reads off comands forever. It's nothing special, but this is one of the most important things a Bitcoin node does!\n",
    "\n",
    "While we won't implement a full Bitcoin node -- that's a massive project -- I'd like to write a few more programs that accomplish some of the core tasks of a bitcoin full or light node.\n",
    "\n",
    "I think the obvious first one is initial block download. But that a lot to chew. I suggest we write a crawler first. Here's how it might work:\n",
    "\n",
    "* Initialize an `addresses` list\n",
    "* Remove one address from `addresses` and call `handshake(address)` to connect to a peer\n",
    "* Send a [`getaddr` message](https://en.bitcoin.it/wiki/Protocol_documentation#getaddr) to our peer requesting a list of their peers. They should respond with an `addr` message.\n",
    "* Enter a `while` loop which one bitcoin message from our peer every iteration, just like in `listener`. But instead of printing them out, let's:\n",
    "    * Wait until we receive an `addr` message (`msg['command'] == b'addr'`)\n",
    "    * When we do, call `read_addr_payload` on its payload to deserialize this list of peer addresses\n",
    "    * Add each of these addresses to out `addresses` list, and start all over\n",
    "\n",
    "In this way we could theoretically visit every node in the network. Let's try to implement this.\n",
    " "
   ]
  },
  {
   "cell_type": "markdown",
   "metadata": {},
   "source": [
    "# Naive Crawler\n",
    "\n",
    "First, we need to study the Bitcoin wiki to learn how to send a [`getaddr` message](https://en.bitcoin.it/wiki/Protocol_documentation#getaddr.\n",
    "\n",
    "Luckily for us, `getaddr` is one of those messages which doesn't require a payload. Therefore, we can produce on like this:"
   ]
  },
  {
   "cell_type": "code",
   "execution_count": null,
   "metadata": {},
   "outputs": [],
   "source": [
    "serialize_msg(command=b\"getaddr\", payload=b\"\")"
   ]
  },
  {
   "cell_type": "markdown",
   "metadata": {},
   "source": [
    "And we can send it like so:"
   ]
  },
  {
   "cell_type": "code",
   "execution_count": null,
   "metadata": {},
   "outputs": [],
   "source": [
    "# make a socket\n",
    "sock = handshake(ADDRESS)\n",
    "\n",
    "msg = serialize_msg(command=b\"getaddr\", payload=b\"\")\n",
    "sock.sendall(msg)\n",
    "print('\"getaddr\" sent!')"
   ]
  },
  {
   "cell_type": "markdown",
   "metadata": {},
   "source": [
    "Very easy! Let's copy the body of `listener`, rename it to `crawler`, and add this code right before the loop."
   ]
  },
  {
   "cell_type": "code",
   "execution_count": null,
   "metadata": {},
   "outputs": [],
   "source": [
    "def crawler(address):\n",
    "    # Establish connection\n",
    "    sock = handshake(address)\n",
    "    stream = sock.makefile(\"rb\")\n",
    "    \n",
    "    # Request list of their peers\n",
    "    msg = serialize_msg(command=b\"getaddr\", payload=b\"\")\n",
    "    sock.sendall(msg)\n",
    "    \n",
    "    # TODO: Wait for `addr` response\n",
    "    while True:\n",
    "        print(read_msg(stream)['command'])"
   ]
  },
  {
   "cell_type": "code",
   "execution_count": null,
   "metadata": {},
   "outputs": [],
   "source": [
    "crawler(ADDRESS)"
   ]
  },
  {
   "cell_type": "markdown",
   "metadata": {},
   "source": [
    "Next we modify `listener` to specially handle the `addr` message we just requested. For now, let's just print out the `addr` payload."
   ]
  },
  {
   "cell_type": "code",
   "execution_count": null,
   "metadata": {},
   "outputs": [],
   "source": [
    "from lib import handshake\n",
    "\n",
    "def crawler(address):\n",
    "    # Establish connection\n",
    "    print(f'Connecting to {address[0]}')\n",
    "    sock = handshake(address)\n",
    "    stream = sock.makefile(\"rb\")\n",
    "    \n",
    "    # Request list of their peers\n",
    "    msg = serialize_msg(command=b\"getaddr\", payload=b\"\")\n",
    "    sock.sendall(msg)\n",
    "    \n",
    "    # Wait for `addr` response\n",
    "    while True:\n",
    "        msg = read_msg(stream)\n",
    "        if msg['command'] == b'addr':\n",
    "            print(f'Received \"addr\" payload: {msg[\"payload\"]}')\n",
    "            return\n",
    "        elif msg['command'] == b'ping':\n",
    "            sock.sendall(serialize_msg(b'pong'))\n",
    "        else:\n",
    "            print(f'Ignoring {msg[\"command\"]} message')\n"
   ]
  },
  {
   "cell_type": "code",
   "execution_count": null,
   "metadata": {
    "scrolled": true
   },
   "outputs": [],
   "source": [
    "crawler(ADDRESS)"
   ]
  },
  {
   "cell_type": "markdown",
   "metadata": {},
   "source": [
    "One of the strange things you might notice is that they don't always "
   ]
  },
  {
   "cell_type": "markdown",
   "metadata": {},
   "source": [
    "Next, let's interpret the payload of the `addr` message when it finally arrives.\n",
    "\n",
    "Visit the [protocol docs](https://en.bitcoin.it/wiki/Protocol_documentation#addr) to see what this will require. \n",
    "\n",
    "We see that `addr` messages are just a list of `net_addr`s prefixed with a `varint` so we know how many of them there. Given that, let's write a `read_addr_payload` function that can take a byte stream containing the payload of an `addr` message and return a Python list of dictionaries containing `net_addr` attributes."
   ]
  },
  {
   "cell_type": "code",
   "execution_count": null,
   "metadata": {},
   "outputs": [],
   "source": [
    "# FIXME: should we just return the list? Do we need the dictionary?\n",
    "\n",
    "def read_addr_payload(stream):\n",
    "    r = {}\n",
    "    count = read_varint(stream)\n",
    "    r[\"addresses\"] = [read_address(stream) for _ in range(count)]\n",
    "    return r"
   ]
  },
  {
   "cell_type": "code",
   "execution_count": null,
   "metadata": {},
   "outputs": [],
   "source": [
    "read_addr_payload(BytesIO(b'\\x01hC\\x90\\\\\\r\\x04\\x00\\x00\\x00\\x00\\x00\\x00\\x00\\x00\\x00\\x00\\x00\\x00\\x00\\x00\\x00\\x00\\xff\\xff_\\x1c\\xda= \\x8d'))"
   ]
  },
  {
   "cell_type": "markdown",
   "metadata": {},
   "source": [
    "Let's call this function from within `crawler`:"
   ]
  },
  {
   "cell_type": "code",
   "execution_count": null,
   "metadata": {},
   "outputs": [],
   "source": [
    "def crawler(address):\n",
    "    # Establish connection\n",
    "    print(f'Connecting to {address[0]}')\n",
    "    sock = handshake(address)\n",
    "    stream = sock.makefile(\"rb\")\n",
    "    \n",
    "    # Request list of their peers\n",
    "    msg = serialize_msg(command=b\"getaddr\", payload=b\"\")\n",
    "    sock.sendall(msg)\n",
    "    \n",
    "    # Wait for `addr` response\n",
    "    while True:\n",
    "        msg = read_msg(stream)\n",
    "        if msg['command'] == b'addr':\n",
    "            addr_msg = read_addr_payload(BytesIO(msg['payload']))\n",
    "            print(f'Received \"addr\" containing {addr_msg[\"addresses\"]}')\n",
    "            return\n",
    "        elif msg['command'] == b'ping':\n",
    "            sock.sendall(serialize_msg(b'pong'))\n",
    "        else:\n",
    "            print(f'Ignoring {msg[\"command\"]} message')\n"
   ]
  },
  {
   "cell_type": "code",
   "execution_count": null,
   "metadata": {
    "scrolled": true
   },
   "outputs": [],
   "source": [
    "crawler(ADDRESS)"
   ]
  },
  {
   "cell_type": "markdown",
   "metadata": {},
   "source": [
    "Now that we can our peer's address list, let's extend the save them to an `addresses` list."
   ]
  },
  {
   "cell_type": "code",
   "execution_count": null,
   "metadata": {},
   "outputs": [],
   "source": [
    "def crawler(addresses):\n",
    "    # Get next address\n",
    "    address = addresses.pop()\n",
    "    \n",
    "    # Connect to this node\n",
    "    while True:\n",
    "        # Establish connection\n",
    "        print(f'Connecting to {address[0]}')\n",
    "        sock = handshake(address)\n",
    "        stream = sock.makefile(\"rb\")\n",
    "\n",
    "        # Request list of their peers\n",
    "        msg = serialize_msg(command=b\"getaddr\", payload=b\"\")\n",
    "        sock.sendall(msg)\n",
    "\n",
    "        # Wait for `addr` response\n",
    "        while True:\n",
    "            msg = read_msg(stream)\n",
    "            if msg['command'] == b'addr':\n",
    "                addr_msg = read_addr_payload(BytesIO(msg['payload']))\n",
    "                print(f'Received \"addr\" containing {addr_msg[\"addresses\"]}')\n",
    "                addresses.extend(addr_msg['addresses'])\n",
    "                break\n",
    "            elif msg['command'] == b'ping':\n",
    "                sock.sendall(serialize_msg(b'pong'))\n",
    "            else:\n",
    "                print(f'Ignoring {msg[\"command\"]} message')"
   ]
  },
  {
   "cell_type": "code",
   "execution_count": null,
   "metadata": {
    "scrolled": true
   },
   "outputs": [],
   "source": [
    "crawler([ADDRESS])"
   ]
  },
  {
   "cell_type": "markdown",
   "metadata": {},
   "source": [
    "If you run this code enough times, you'll get output like this:\n",
    "\n",
    "```\n",
    "Connecting to 173.244.167.110\n",
    "Ignoring b'alert' message\n",
    "Received \"addr\" containing [{'time': 1552959039, 'services': b'\\r\\x04\\x00\\x00\\x00\\x00\\x00\\x00', 'ip': '::ffff:173.244.167.110', 'port': 8333}]\n",
    "Connecting to 173.244.167.110\n",
    "Received \"addr\" containing [{'time': 1552959039, 'services': b'\\r\\x04\\x00\\x00\\x00\\x00\\x00\\x00', 'ip': '::ffff:173.244.167.110', 'port': 8333}]\n",
    "Connecting to 173.244.167.110\n",
    "Received \"addr\" containing [{'time': 1552959039, 'services': b'\\r\\x04\\x00\\x00\\x00\\x00\\x00\\x00', 'ip': '::ffff:173.244.167.110', 'port': 8333}]\n",
    "Connecting to 173.244.167.110\n",
    "Received \"addr\" containing [{'time': 1552959039, 'services': b'\\r\\x04\\x00\\x00\\x00\\x00\\x00\\x00', 'ip': '::ffff:173.244.167.110', 'port': 8333}]\n",
    "...\n",
    "...\n",
    "...\n",
    "```\n",
    "\n",
    "It's just connecting to the same address over and over again. Why is this?\n",
    "\n",
    "Because the `addr` message our peer is sending us contains only 1 address: the address of the peer we're currently connected to! So that will go back into the queue, and we'll just keep connecting to the same peer over-and-over.\n",
    "\n",
    "We need a check for this:"
   ]
  },
  {
   "cell_type": "code",
   "execution_count": null,
   "metadata": {},
   "outputs": [],
   "source": [
    "def crawler(addresses):\n",
    "    # Get next address\n",
    "    address = addresses.pop()\n",
    "    \n",
    "    # Connect to this node\n",
    "    while True:\n",
    "        # Establish connection\n",
    "        print(f'Connecting to {address[0]}')\n",
    "        sock = handshake(address)\n",
    "        stream = sock.makefile(\"rb\")\n",
    "\n",
    "        # Request list of their peers\n",
    "        msg = serialize_msg(command=b\"getaddr\", payload=b\"\")\n",
    "        sock.sendall(msg)\n",
    "\n",
    "        # Wait for `addr` response\n",
    "        while True:\n",
    "            msg = read_msg(stream)\n",
    "            if msg['command'] == b'addr':\n",
    "                addr_msg = read_addr_payload(BytesIO(msg['payload']))\n",
    "                # Only save if it contains new addresses\n",
    "                print(len(addr_msg[\"addresses\"]), addr_msg[\"addresses\"][0], address)\n",
    "                if len(addr_msg[\"addresses\"]) > 1:\n",
    "                    print(f'Received \"addr\" containing {addr_msg[\"addresses\"]}')\n",
    "                    addresses.extend([\n",
    "                        (a['ip'], a['port']) for a in addr_msg[\"addresses\"]\n",
    "                    ])\n",
    "                    break\n",
    "            elif msg['command'] == b'ping':\n",
    "                sock.sendall(serialize_msg(b'pong'))\n",
    "            else:\n",
    "                print(f'Ignoring {msg[\"command\"]} message')"
   ]
  },
  {
   "cell_type": "code",
   "execution_count": null,
   "metadata": {
    "scrolled": true
   },
   "outputs": [],
   "source": [
    "crawler([ADDRESS])"
   ]
  },
  {
   "cell_type": "code",
   "execution_count": null,
   "metadata": {},
   "outputs": [],
   "source": [
    "\n",
    "def crawler(addresses):\n",
    "    while True:\n",
    "        # Get next address from addresses and connect\n",
    "        address = addresses.pop()\n",
    "\n",
    "        try:\n",
    "            # Establish connection\n",
    "            print(f'Connecting to {address}')\n",
    "            sock = handshake(address)  # FIXME: save the version payload\n",
    "            stream = sock.makefile('rb')\n",
    "\n",
    "            # Request peer's peers\n",
    "            sock.sendall(serialize_msg(b'getaddr'))\n",
    "\n",
    "            # Print every gossip message we receive\n",
    "            while True:\n",
    "                msg = read_msg(stream)\n",
    "                command = msg['command']\n",
    "                payload_len = len(msg['payload'])\n",
    "                print(f'Received a \"{command}\" containing {payload_len} bytes')\n",
    "\n",
    "                # Respond to \"ping\"\n",
    "                if command == b'ping':\n",
    "                    res = serialize_msg(command=b'pong', payload=msg['payload'])\n",
    "                    sock.sendall(res)\n",
    "                    print(\"Send 'pong'\")\n",
    "\n",
    "                # Specially handle peer lists\n",
    "                if command == b'addr':\n",
    "                    payload = read_addr_payload(BytesIO(msg['payload']))\n",
    "                    if len(payload['addresses']) > 1:\n",
    "                        addresses.extend([\n",
    "                            (a['ip'], a['port']) for a in payload['addresses']\n",
    "                        ])\n",
    "                        break\n",
    "        except Exception as e:\n",
    "            print(f'Got error: {str(e)}')\n",
    "            continue\n"
   ]
  },
  {
   "cell_type": "code",
   "execution_count": null,
   "metadata": {},
   "outputs": [],
   "source": [
    "crawler([ADDRESS])"
   ]
  }
 ],
 "metadata": {
  "kernelspec": {
   "display_name": "Python 3",
   "language": "python",
   "name": "python3"
  },
  "language_info": {
   "codemirror_mode": {
    "name": "ipython",
    "version": 3
   },
   "file_extension": ".py",
   "mimetype": "text/x-python",
   "name": "python",
   "nbconvert_exporter": "python",
   "pygments_lexer": "ipython3",
   "version": "3.7.2"
  }
 },
 "nbformat": 4,
 "nbformat_minor": 2
}
