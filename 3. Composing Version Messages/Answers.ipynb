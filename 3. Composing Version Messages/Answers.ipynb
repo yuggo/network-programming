{
 "cells": [
  {
   "cell_type": "markdown",
   "metadata": {},
   "source": [
    "### `int_to_little_endian(int, size)`"
   ]
  },
  {
   "cell_type": "code",
   "execution_count": null,
   "metadata": {},
   "outputs": [],
   "source": [
    "def int_to_little_endian(integer, length):\n",
    "    return integer.to_bytes(length, 'little')"
   ]
  },
  {
   "cell_type": "markdown",
   "metadata": {},
   "source": [
    "### `int_to_big_endian(int, size)` "
   ]
  },
  {
   "cell_type": "code",
   "execution_count": null,
   "metadata": {},
   "outputs": [],
   "source": [
    "def int_to_big_endian(integer, length):\n",
    "    return integer.to_bytes(length, 'big')"
   ]
  },
  {
   "cell_type": "markdown",
   "metadata": {},
   "source": [
    "### Update `serialize_version_payload` to serialize all integer fields integers using `little_endian_to_int` and `big_endian_to_int`"
   ]
  },
  {
   "cell_type": "code",
   "execution_count": null,
   "metadata": {},
   "outputs": [],
   "source": [
    "def serialize_version_payload(\n",
    "        version=70015, services=0, timestamp=None,\n",
    "        receiver_address=dummy_address,\n",
    "        sender_address=dummy_address,\n",
    "        nonce=None, user_agent=b'/buidl-bootcamp/',\n",
    "        start_height=0, relay=True):\n",
    "    if timestamp is None:\n",
    "        timestamp = int(time.time())\n",
    "    if nonce is None:\n",
    "        nonce = randint(0, 2**64)\n",
    "    msg = b''\n",
    "    # version\n",
    "    msg += int_to_little_endian(version, 4)\n",
    "    # services\n",
    "    msg += int_to_little_endian(services, 8)\n",
    "    # timestamp\n",
    "    msg += int_to_little_endian(timestamp, 8)\n",
    "    # receiver address\n",
    "    msg += ZERO * 26\n",
    "    # sender address\n",
    "    msg += ZERO * 26\n",
    "    # nonce\n",
    "    msg += int_to_little_endian(nonce, 8)\n",
    "    # user agent\n",
    "    msg += ZERO * 1 # zero byte signifies an empty varstr\n",
    "    # start height\n",
    "    msg += int_to_little_endian(start_height, 4)\n",
    "    # relay\n",
    "    msg += ZERO * 1\n",
    "    return msg"
   ]
  },
  {
   "cell_type": "markdown",
   "metadata": {},
   "source": [
    "### Exercise: `services_dict_to_int`"
   ]
  },
  {
   "cell_type": "code",
   "execution_count": 1,
   "metadata": {},
   "outputs": [],
   "source": [
    "def services_dict_to_int(services_dict):\n",
    "    key_to_multiplier = {\n",
    "        'NODE_NETWORK': 2**0,\n",
    "        'NODE_GETUTXO': 2**1,\n",
    "        'NODE_BLOOM': 2**2,\n",
    "        'NODE_WITNESS': 2**3,\n",
    "        'NODE_NETWORK_LIMITED': 2**10,\n",
    "    }\n",
    "    services_int = 0\n",
    "    for key, on_or_off in services_dict.items():\n",
    "        services_int += int(on_or_off) * key_to_multiplier.get(key, 0)\n",
    "    return services_int"
   ]
  },
  {
   "cell_type": "markdown",
   "metadata": {},
   "source": [
    "### Exercise: Update `serialize_version_payload` to take `services_dict` argument"
   ]
  },
  {
   "cell_type": "code",
   "execution_count": null,
   "metadata": {},
   "outputs": [],
   "source": [
    "def serialize_version_payload(\n",
    "        version=70015, services_dict={}, timestamp=None,\n",
    "        receiver_address=dummy_address,\n",
    "        sender_address=dummy_address,\n",
    "        nonce=None, user_agent=b'/buidl-army/',\n",
    "        start_height=0, relay=True):\n",
    "    if timestamp is None:\n",
    "        timestamp = int(time.time())\n",
    "    if nonce is None:\n",
    "        nonce = randint(0, 2**64)\n",
    "    msg = b''\n",
    "    # version\n",
    "    msg += int_to_little_endian(version, 4)\n",
    "    # services\n",
    "    services = services_dict_to_int(services_dict)\n",
    "    msg += int_to_little_endian(services, 8)\n",
    "    # timestamp\n",
    "    msg += int_to_little_endian(timestamp, 8)\n",
    "    # receiver address\n",
    "    msg += ZERO * 26\n",
    "    # sender address\n",
    "    msg += ZERO * 26\n",
    "    # nonce\n",
    "    msg += int_to_little_endian(nonce, 8)\n",
    "    # user agent\n",
    "    msg += ZERO * 1 # zero byte signifies an empty varstr\n",
    "    # start height\n",
    "    msg += int_to_little_endian(start_height, 4)\n",
    "    # relay\n",
    "    msg += ZERO * 1\n",
    "    return msg"
   ]
  },
  {
   "cell_type": "markdown",
   "metadata": {},
   "source": [
    "### Exercise: `bool_to_bytes(bool)`"
   ]
  },
  {
   "cell_type": "code",
   "execution_count": null,
   "metadata": {},
   "outputs": [],
   "source": [
    "def bool_to_bytes(bool):\n",
    "    return bytes([int(bool)])"
   ]
  },
  {
   "cell_type": "markdown",
   "metadata": {},
   "source": [
    "### Exercise: Update `serialize_version_payload` to call `bool_to_bytes` where appropriate"
   ]
  },
  {
   "cell_type": "code",
   "execution_count": null,
   "metadata": {},
   "outputs": [],
   "source": [
    "def serialize_version_payload(\n",
    "        version=70015, services_dict={}, timestamp=None,\n",
    "        receiver_address=dummy_address,\n",
    "        sender_address=dummy_address,\n",
    "        nonce=None, user_agent=b'/buidl-bootcamp/',\n",
    "        start_height=0, relay=True):\n",
    "    if timestamp is None:\n",
    "        timestamp = int(time.time())\n",
    "    if nonce is None:\n",
    "        nonce = randint(0, 2**64)\n",
    "    msg = b''\n",
    "    # version\n",
    "    msg += int_to_little_endian(version, 4)\n",
    "    # services\n",
    "    services = services_dict_to_int(services_dict)\n",
    "    msg += int_to_little_endian(services, 8)\n",
    "    # timestamp\n",
    "    msg += int_to_little_endian(timestamp, 8)\n",
    "    # receiver address\n",
    "    msg += ZERO * 26\n",
    "    # sender address\n",
    "    msg += ZERO * 26\n",
    "    # nonce\n",
    "    msg += int_to_little_endian(nonce, 8)\n",
    "    # user agent\n",
    "    msg += serialize_varstr(user_agent)\n",
    "    # start height\n",
    "    msg += int_to_little_endian(start_height, 4)\n",
    "    # relay\n",
    "    msg += bool_to_bytes(relay)\n",
    "    return msg"
   ]
  },
  {
   "cell_type": "markdown",
   "metadata": {},
   "source": [
    "### Exercise: `serialize_varint`"
   ]
  },
  {
   "cell_type": "code",
   "execution_count": null,
   "metadata": {},
   "outputs": [],
   "source": [
    "def serialize_varint(i):\n",
    "    if i < 0xfd:\n",
    "        return bytes([i])\n",
    "    elif i < 256**2:\n",
    "        return b'\\xfd' + int_to_little_endian(i, 2)\n",
    "    elif i < 256**4:\n",
    "        return b'\\xfe' + int_to_little_endian(i, 4)\n",
    "    elif i < 256**8:\n",
    "        return b'\\xff' + int_to_little_endian(i, 8)\n",
    "    else:\n",
    "        raise RuntimeError('integer too large: {}'.format(i))"
   ]
  },
  {
   "cell_type": "markdown",
   "metadata": {},
   "source": [
    "### Exercise: `serialize_varstr(bytes)`\n"
   ]
  },
  {
   "cell_type": "code",
   "execution_count": null,
   "metadata": {},
   "outputs": [],
   "source": [
    "def serialize_varstr(bytes):\n",
    "    return serialize_varint(len(bytes)) + bytes"
   ]
  },
  {
   "cell_type": "markdown",
   "metadata": {},
   "source": [
    "### Exercise: Update `serialize_version_payload` to serialize the `user_agent` as a `varstr`"
   ]
  },
  {
   "cell_type": "code",
   "execution_count": null,
   "metadata": {},
   "outputs": [],
   "source": [
    "def serialize_version_payload(\n",
    "        version=70015, services_dict={}, timestamp=None,\n",
    "        receiver_address=dummy_address,\n",
    "        sender_address=dummy_address,\n",
    "        nonce=None, user_agent=b'/buidl-bootcamp/',\n",
    "        start_height=0, relay=True):\n",
    "    if timestamp is None:\n",
    "        timestamp = int(time.time())\n",
    "    if nonce is None:\n",
    "        nonce = randint(0, 2**64)\n",
    "    msg = b''\n",
    "    # version\n",
    "    msg += int_to_little_endian(version, 4)\n",
    "    # services\n",
    "    services = services_dict_to_int(services_dict)\n",
    "    msg += int_to_little_endian(services, 8)\n",
    "    # timestamp\n",
    "    msg += int_to_little_endian(timestamp, 8)\n",
    "    # receiver address\n",
    "    msg += ZERO * 26\n",
    "    # sender address\n",
    "    msg += ZERO * 26\n",
    "    # nonce\n",
    "    msg += int_to_little_endian(nonce, 8)\n",
    "    # user agent\n",
    "    msg += serialize_varstr(user_agent)\n",
    "    # start height\n",
    "    msg += int_to_little_endian(start_height, 4)\n",
    "    # relay\n",
    "    msg += bool_to_bytes(relay)\n",
    "    return msg"
   ]
  },
  {
   "cell_type": "markdown",
   "metadata": {},
   "source": [
    "### Exercise: Update `serialize_version_payload` to serialize network addresses\n"
   ]
  },
  {
   "cell_type": "code",
   "execution_count": null,
   "metadata": {},
   "outputs": [],
   "source": [
    "def serialize_version_payload(\n",
    "        version=70015, services_dict={}, timestamp=None,\n",
    "        receiver_address=dummy_address,\n",
    "        sender_address=dummy_address,\n",
    "        nonce=None, user_agent=b'/buidl-bootcamp/',\n",
    "        start_height=0, relay=True):\n",
    "    if timestamp is None:\n",
    "        timestamp = int(time.time())\n",
    "    if nonce is None:\n",
    "        nonce = randint(0, 2**64)\n",
    "    msg = b''\n",
    "    # version\n",
    "    msg += int_to_little_endian(version, 4)\n",
    "    # services\n",
    "    services = services_dict_to_int(services_dict)\n",
    "    msg += int_to_little_endian(services, 8)\n",
    "    # timestamp\n",
    "    msg += int_to_little_endian(timestamp, 8)\n",
    "    # receiver address\n",
    "    msg += serialize_address(receiver_address, has_timestamp=False)\n",
    "    # sender address\n",
    "    msg += serialize_address(sender_address, has_timestamp=False)\n",
    "    # nonce\n",
    "    msg += int_to_little_endian(nonce, 8)\n",
    "    # user agent\n",
    "    msg += serialize_varstr(user_agent)\n",
    "    # start height\n",
    "    msg += int_to_little_endian(start_height, 4)\n",
    "    # relay\n",
    "    msg += bool_to_bytes(relay)\n",
    "    return msg"
   ]
  },
  {
   "cell_type": "markdown",
   "metadata": {},
   "source": [
    "### Exercise: Serialize Network Magic"
   ]
  },
  {
   "cell_type": "code",
   "execution_count": null,
   "metadata": {},
   "outputs": [],
   "source": [
    "def serialize_message(command, payload):\n",
    "    result = b'\\xf9\\xbe\\xb4\\xd9'\n",
    "    result += b'command'\n",
    "    result += b'payload length'\n",
    "    result += b'checksum'\n",
    "    result += b'payload'\n",
    "    return result"
   ]
  },
  {
   "cell_type": "markdown",
   "metadata": {},
   "source": [
    "### Exercise: Serialize Command"
   ]
  },
  {
   "cell_type": "code",
   "execution_count": null,
   "metadata": {},
   "outputs": [],
   "source": [
    "def serialize_message(command, payload):\n",
    "    result = b'\\xf9\\xbe\\xb4\\xd9'\n",
    "    result += command + b'\\x00' * (12 - len(command))\n",
    "    result += b'payload length'\n",
    "    result += b'checksum'\n",
    "    result += b'payload'\n",
    "    return result"
   ]
  },
  {
   "cell_type": "markdown",
   "metadata": {},
   "source": [
    "### Exercise: Serialize Payload Length"
   ]
  },
  {
   "cell_type": "code",
   "execution_count": 2,
   "metadata": {},
   "outputs": [],
   "source": [
    "def serialize_message(command, payload):\n",
    "    result = b'\\xf9\\xbe\\xb4\\xd9'\n",
    "    result += command + b'\\x00' * (12 - len(command))\n",
    "    result += int_to_little_endian(len(payload), 4)\n",
    "    result += b'checksum'\n",
    "    result += b'payload'\n",
    "    return result"
   ]
  },
  {
   "cell_type": "markdown",
   "metadata": {},
   "source": [
    "### Exercise: Serialize Checksum\n",
    "\n",
    "(and optional `compute_checksum` below it)"
   ]
  },
  {
   "cell_type": "code",
   "execution_count": null,
   "metadata": {},
   "outputs": [],
   "source": [
    "def serialize_message(command, payload):\n",
    "    result = b'\\xf9\\xbe\\xb4\\xd9'\n",
    "    result += command +  b'\\x00' * (12 - len(command))\n",
    "    result += int_to_little_endian(len(payload), 4)\n",
    "    result += compute_checksum(payload)\n",
    "    result += b'payload'\n",
    "    return result"
   ]
  },
  {
   "cell_type": "code",
   "execution_count": null,
   "metadata": {},
   "outputs": [],
   "source": [
    "import hashlib\n",
    "\n",
    "def compute_checksum(bytes):\n",
    "    first_round = hashlib.sha256(bytes).digest()\n",
    "    second_round = hashlib.sha256(first_round).digest()\n",
    "    return second_round[:4]"
   ]
  },
  {
   "cell_type": "markdown",
   "metadata": {},
   "source": [
    "### Exercise: Serialize Payload\n"
   ]
  },
  {
   "cell_type": "code",
   "execution_count": null,
   "metadata": {},
   "outputs": [],
   "source": [
    "def serialize_message(command, payload=b''):\n",
    "    result = b'\\xf9\\xbe\\xb4\\xd9'\n",
    "    result += command + b'\\x00' * (12 - len(command))\n",
    "    result += int_to_little_endian(len(payload), 4)\n",
    "    result += compute_checksum(payload)\n",
    "    result += payload\n",
    "    return result"
   ]
  },
  {
   "cell_type": "markdown",
   "metadata": {},
   "source": [
    "### Exercise: Version Handshake"
   ]
  },
  {
   "cell_type": "code",
   "execution_count": null,
   "metadata": {},
   "outputs": [],
   "source": [
    "def handshake(address):\n",
    "    sock = socket.create_connection(address)\n",
    "    stream = sock.makefile(\"rb\")\n",
    "\n",
    "    # Step 1: our version message\n",
    "    version_payload = serialize_version_payload(user_agent=b'/finally/')\n",
    "    our_version = serialize_message(command=b\"version\", \n",
    "                                    payload=version_payload)\n",
    "\n",
    "    sock.sendall(our_version)\n",
    "    print(\"Sent version\")\n",
    "\n",
    "    # Step 2: their version message\n",
    "    peer_version = read_message(stream)\n",
    "    print(\"Version: \")\n",
    "    pprint(read_version_payload(BytesIO(peer_version['payload'])))\n",
    "\n",
    "    # Step 3: their version message\n",
    "    peer_verack = read_message(stream)\n",
    "    print(\"Verack: \", peer_verack)\n",
    "\n",
    "    # Step 4: our verack\n",
    "    our_verack = serialize_message(command=b\"verack\")\n",
    "    sock.sendall(our_verack)\n",
    "    print(\"Sent verack\")\n",
    "\n",
    "    return sock, stream"
   ]
  }
 ],
 "metadata": {
  "kernelspec": {
   "display_name": "Python 3",
   "language": "python",
   "name": "python3"
  },
  "language_info": {
   "codemirror_mode": {
    "name": "ipython",
    "version": 3
   },
   "file_extension": ".py",
   "mimetype": "text/x-python",
   "name": "python",
   "nbconvert_exporter": "python",
   "pygments_lexer": "ipython3",
   "version": "3.7.2"
  }
 },
 "nbformat": 4,
 "nbformat_minor": 2
}
