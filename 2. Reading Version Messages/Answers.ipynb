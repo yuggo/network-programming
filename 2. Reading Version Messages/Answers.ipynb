{
 "cells": [
  {
   "cell_type": "markdown",
   "metadata": {},
   "source": [
    "### Exercise: `read_version_payload`"
   ]
  },
  {
   "cell_type": "code",
   "execution_count": null,
   "metadata": {},
   "outputs": [],
   "source": [
    "def read_version_payload(stream):\n",
    "    # We will build up this dictionary as we go\n",
    "    r = {}\n",
    "    \n",
    "    # First read the 4 byte `version` number and save to the r['version'] key \n",
    "    r['version'] = stream.read(4)\n",
    "    \n",
    "    # Your turn: follow this pattern to fill in the \"timestamp\", \"receiver_address\", \"sender_address\", and \"nonce\" fields\n",
    "    r['services'] = stream.read(8)\n",
    "    r['timestamp'] = stream.read(8)\n",
    "    r['receiver_address'] = stream.read(26)\n",
    "    r['sender_address'] = stream.read(26)\n",
    "    r['nonce'] = stream.read(8)\n",
    "    \n",
    "    # I will do the \"user_agent\" attribute for you. You will re-implement later ...\n",
    "    r['user_agent'] = magic_read_varstr(stream)\n",
    "    \n",
    "    # Your turn: Fill out the remaining \"start_height\" and \"relay\" attributes\n",
    "    r['start_height'] = stream.read(4)\n",
    "    r['relay'] = stream.read(1)\n",
    "        \n",
    "    # Return the dictionary we've assembled\n",
    "    return r"
   ]
  },
  {
   "cell_type": "markdown",
   "metadata": {},
   "source": [
    "### Exercise: `little_endian_to_int(bytes)` and `big_endian_to_int(bytes)` \n"
   ]
  },
  {
   "cell_type": "code",
   "execution_count": null,
   "metadata": {},
   "outputs": [],
   "source": [
    "def little_endian_to_int(b):\n",
    "    return int.from_bytes(b, 'little')\n",
    "\n",
    "def big_endian_to_int(b):\n",
    "    return int.from_bytes(b, 'big')"
   ]
  },
  {
   "cell_type": "markdown",
   "metadata": {},
   "source": [
    "### Exercise: Update `read_version_payload` to interpret integers using `little_endian_to_int` and `big_endian_to_int`"
   ]
  },
  {
   "cell_type": "code",
   "execution_count": null,
   "metadata": {},
   "outputs": [],
   "source": [
    "def read_version_payload(stream):\n",
    "    r = {}    \n",
    "    r['version'] = little_endian_to_int(stream.read(4))\n",
    "    r['services'] = little_endian_to_int(stream.read(8))\n",
    "    r['timestamp'] = little_endian_to_int(stream.read(8))\n",
    "    r['receiver_address'] = stream.read(26)\n",
    "    r['sender_address'] = stream.read(26)\n",
    "    r['nonce'] = little_endian_to_int(stream.read(8))\n",
    "    r['user_agent'] = magic_read_varstr(stream)\n",
    "    r['start_height'] = little_endian_to_int(stream.read(4))\n",
    "    r['relay'] = stream.read(1)\n",
    "    return r"
   ]
  },
  {
   "cell_type": "markdown",
   "metadata": {},
   "source": [
    "### Exercise: Given a version message payload (a dictionary of the sort returned by `read_version_payload`), determine whether it's node can send a `pong` message\n"
   ]
  },
  {
   "cell_type": "code",
   "execution_count": null,
   "metadata": {},
   "outputs": [],
   "source": [
    "def can_send_pong(version_payload):\n",
    "    return version_payload['version'] >= 60001"
   ]
  },
  {
   "cell_type": "markdown",
   "metadata": {},
   "source": [
    "### Exercise: Given a version message payload (dictionary of the sort returned by `read_version_payload`), tell me if it is from the last hour or not"
   ]
  },
  {
   "cell_type": "code",
   "execution_count": null,
   "metadata": {},
   "outputs": [],
   "source": [
    "def is_less_than_one_hour_old(version_payload_dict):\n",
    "    \"\"\"Using time.time()\"\"\"\n",
    "    return version_payload_dict['timestamp'] > time.time() - 60*60\n",
    "\n",
    "def is_less_than_one_hour_old(version_payload_dict):\n",
    "    \"\"\"Using datetime\"\"\"\n",
    "    dt = datetime.fromtimestamp(version_payload_dict['timestamp'])\n",
    "    one_hour_ago = datetime.now() - timedelta(hours=1)\n",
    "    return dt > one_hour_ago"
   ]
  },
  {
   "cell_type": "markdown",
   "metadata": {},
   "source": [
    "### Exercise: `check_bit(bitfield, index)`"
   ]
  },
  {
   "cell_type": "code",
   "execution_count": null,
   "metadata": {},
   "outputs": [],
   "source": [
    "def check_bit(bitfield, index):\n",
    "    mask = 1 << index\n",
    "    return bool(bitfield & mask)"
   ]
  },
  {
   "cell_type": "markdown",
   "metadata": {},
   "source": [
    "### Exercise:  `services_int_to_dict`"
   ]
  },
  {
   "cell_type": "code",
   "execution_count": null,
   "metadata": {},
   "outputs": [],
   "source": [
    "def services_int_to_dict(services_int):\n",
    "    return {\n",
    "        'NODE_NETWORK': check_bit(services_int, 0),\n",
    "        'NODE_GETUTXO': check_bit(services_int, 1),\n",
    "        'NODE_BLOOM': check_bit(services_int, 2),\n",
    "        'NODE_WITNESS': check_bit(services_int, 3),\n",
    "        'NODE_NETWORK_LIMITED': check_bit(services_int, 10),\n",
    "    }\n"
   ]
  },
  {
   "cell_type": "markdown",
   "metadata": {},
   "source": [
    "### Exercise: Complete these function definitions to hammer home you understanding of this strange `services` \"bitfield\""
   ]
  },
  {
   "cell_type": "code",
   "execution_count": null,
   "metadata": {},
   "outputs": [],
   "source": [
    "def offers_node_network_service(services_bitfield):\n",
    "    services_dict = services_int_to_dict(services_bitfield)\n",
    "    return services_dict['NODE_NETWORK']"
   ]
  },
  {
   "cell_type": "code",
   "execution_count": null,
   "metadata": {},
   "outputs": [],
   "source": [
    "def offers_node_bloom_and_node_witness_services(services_bitfield):\n",
    "    services_dict = services_int_to_dict(services_bitfield)\n",
    "    return services_dict['NODE_BLOOM'] and services_dict['NODE_WITNESS']"
   ]
  },
  {
   "cell_type": "markdown",
   "metadata": {},
   "source": [
    "### Exercise: `bytes_to_bool(bytes)`"
   ]
  },
  {
   "cell_type": "code",
   "execution_count": null,
   "metadata": {},
   "outputs": [],
   "source": [
    "def bytes_to_bool(bytes):\n",
    "    return bool(little_endian_to_int(bytes))"
   ]
  },
  {
   "cell_type": "markdown",
   "metadata": {},
   "source": [
    "### Exercise: Use `bytes_to_bool` to the interpret the `relay` bytes in `read_version_payload`"
   ]
  },
  {
   "cell_type": "code",
   "execution_count": null,
   "metadata": {},
   "outputs": [],
   "source": [
    "def read_version_payload(stream):\n",
    "    r = {}    \n",
    "    r['version'] = little_endian_to_int(stream.read(4))\n",
    "    r['services'] = little_endian_to_int(stream.read(8))\n",
    "    r['timestamp'] = little_endian_to_int(stream.read(8))\n",
    "    r['receiver_address'] = stream.read(26)\n",
    "    r['sender_address'] = stream.read(26)\n",
    "    r['nonce'] = little_endian_to_int(stream.read(8))\n",
    "    r['user_agent'] = magic_read_varstr(stream)\n",
    "    r['start_height'] = little_endian_to_int(stream.read(4))\n",
    "    r['relay'] = bytes_to_bool(stream.read(1))\n",
    "    return r"
   ]
  },
  {
   "cell_type": "markdown",
   "metadata": {},
   "source": [
    "### Exercise:  Implement `read_varint`, since `read_varstr` will depend on it and the version message's `user_agent` requires `read_varstr`"
   ]
  },
  {
   "cell_type": "code",
   "execution_count": null,
   "metadata": {},
   "outputs": [],
   "source": [
    "def read_varint(stream):\n",
    "    i = little_endian_to_int(stream.read(1))\n",
    "    if i == 0xff:\n",
    "        return little_endian_to_int(stream.read(8))\n",
    "    elif i == 0xfe:\n",
    "        return little_endian_to_int(stream.read(4))\n",
    "    elif i == 0xfd:\n",
    "        return little_endian_to_int(stream.read(2))\n",
    "    else:\n",
    "        return i"
   ]
  },
  {
   "cell_type": "markdown",
   "metadata": {},
   "source": [
    "### Exercise: Implement `read_varstr`\n"
   ]
  },
  {
   "cell_type": "code",
   "execution_count": null,
   "metadata": {},
   "outputs": [],
   "source": [
    "def read_varstr(stream):\n",
    "    length = read_varint(stream)\n",
    "    string = stream.read(length)\n",
    "    return string"
   ]
  },
  {
   "cell_type": "markdown",
   "metadata": {},
   "source": [
    "### Exercise: `read_version_payload` calls your `read_varstr`\n"
   ]
  },
  {
   "cell_type": "code",
   "execution_count": null,
   "metadata": {},
   "outputs": [],
   "source": [
    "def read_version_payload(stream):\n",
    "    r = {}    \n",
    "    r['version'] = little_endian_to_int(stream.read(4))\n",
    "    r['services'] = little_endian_to_int(stream.read(8))\n",
    "    r['timestamp'] = little_endian_to_int(stream.read(8))\n",
    "    r['receiver_address'] = stream.read(26)\n",
    "    r['sender_address'] = stream.read(26)\n",
    "    r['nonce'] = little_endian_to_int(stream.read(8))\n",
    "    r['user_agent'] = read_varstr(stream)\n",
    "    r['start_height'] = little_endian_to_int(stream.read(4))\n",
    "    r['relay'] = bytes_to_bool(stream.read(1))\n",
    "    return r"
   ]
  },
  {
   "cell_type": "markdown",
   "metadata": {},
   "source": [
    "### Exercise: Read an IPv4 address"
   ]
  },
  {
   "cell_type": "code",
   "execution_count": 28,
   "metadata": {},
   "outputs": [],
   "source": [
    "# Reading an IPv4 address\n",
    "ipv4_bytes = b'\\x00\\x00\\x00\\x00\\x00\\x00\\x00\\x00\\x00\\x00\\xff\\xff\\n\\x00\\x00\\x01'"
   ]
  },
  {
   "cell_type": "code",
   "execution_count": 29,
   "metadata": {},
   "outputs": [
    {
     "data": {
      "text/plain": [
       "b'\\n\\x00\\x00\\x01'"
      ]
     },
     "execution_count": 29,
     "metadata": {},
     "output_type": "execute_result"
    }
   ],
   "source": [
    "# First, throw away the prefix\n",
    "ip = ipv4_bytes[12:]\n",
    "ip"
   ]
  },
  {
   "cell_type": "code",
   "execution_count": 30,
   "metadata": {},
   "outputs": [
    {
     "data": {
      "text/plain": [
       "[10, 0, 0, 1]"
      ]
     },
     "execution_count": 30,
     "metadata": {},
     "output_type": "execute_result"
    }
   ],
   "source": [
    "# Interpret each byte as an integer\n",
    "ip = list(ip)\n",
    "ip"
   ]
  },
  {
   "cell_type": "code",
   "execution_count": 32,
   "metadata": {},
   "outputs": [
    {
     "data": {
      "text/plain": [
       "'10.0.0.1'"
      ]
     },
     "execution_count": 32,
     "metadata": {},
     "output_type": "execute_result"
    }
   ],
   "source": [
    "# String-formatting\n",
    "\n",
    "'.'.join([str(char) for char in ip])"
   ]
  },
  {
   "cell_type": "markdown",
   "metadata": {},
   "source": [
    "### Exercise: Read an IPv6 Address"
   ]
  },
  {
   "cell_type": "code",
   "execution_count": 24,
   "metadata": {},
   "outputs": [
    {
     "data": {
      "text/plain": [
       "b'\\xfe\\x80\\x00\\x00\\x00\\x00\\x00\\x00\\x02\\x02\\xb3\\xff\\xfe\\x1e\\x83)'"
      ]
     },
     "execution_count": 24,
     "metadata": {},
     "output_type": "execute_result"
    }
   ],
   "source": [
    "ipv6_bytes = b'\\xfe\\x80\\x00\\x00\\x00\\x00\\x00\\x00\\x02\\x02\\xb3\\xff\\xfe\\x1e\\x83)'\n",
    "ipv6_bytes"
   ]
  },
  {
   "cell_type": "code",
   "execution_count": 25,
   "metadata": {},
   "outputs": [
    {
     "data": {
      "text/plain": [
       "[b'\\xfe\\x80',\n",
       " b'\\x00\\x00',\n",
       " b'\\x00\\x00',\n",
       " b'\\x00\\x00',\n",
       " b'\\x02\\x02',\n",
       " b'\\xb3\\xff',\n",
       " b'\\xfe\\x1e',\n",
       " b'\\x83)']"
      ]
     },
     "execution_count": 25,
     "metadata": {},
     "output_type": "execute_result"
    }
   ],
   "source": [
    "# Grab pairwise bytes\n",
    "\n",
    "ip = [ipv6_bytes[i:i+2] for i in range(0, 16, 2)]\n",
    "ip"
   ]
  },
  {
   "cell_type": "code",
   "execution_count": 26,
   "metadata": {},
   "outputs": [
    {
     "data": {
      "text/plain": [
       "['fe80', '0000', '0000', '0000', '0202', 'b3ff', 'fe1e', '8329']"
      ]
     },
     "execution_count": 26,
     "metadata": {},
     "output_type": "execute_result"
    }
   ],
   "source": [
    "# Turn each byte-pair into hex strings\n",
    "\n",
    "ip = [two_bytes.hex() for two_bytes in ip]\n",
    "ip"
   ]
  },
  {
   "cell_type": "code",
   "execution_count": 27,
   "metadata": {},
   "outputs": [
    {
     "data": {
      "text/plain": [
       "'fe80:0000:0000:0000:0202:b3ff:fe1e:8329'"
      ]
     },
     "execution_count": 27,
     "metadata": {},
     "output_type": "execute_result"
    }
   ],
   "source": [
    "# String formatting\n",
    "\n",
    "ip = ':'.join(ip)\n",
    "ip"
   ]
  },
  {
   "cell_type": "markdown",
   "metadata": {},
   "source": [
    "### Exercise: `bytes_to_ip`"
   ]
  },
  {
   "cell_type": "code",
   "execution_count": null,
   "metadata": {},
   "outputs": [],
   "source": [
    "def bytes_to_ip(b):\n",
    "    # IPv4\n",
    "    if b[0:12] == IPV4_PREFIX:\n",
    "        return socket.inet_ntop(socket.AF_INET, b[12:16])\n",
    "    # IPv6\n",
    "    else:\n",
    "        return socket.inet_ntop(socket.AF_INET6, b)"
   ]
  },
  {
   "cell_type": "markdown",
   "metadata": {},
   "source": [
    "### Exercise: `read_address`\n"
   ]
  },
  {
   "cell_type": "code",
   "execution_count": null,
   "metadata": {},
   "outputs": [],
   "source": [
    "def read_address(stream, has_timestamp):\n",
    "    r = {}\n",
    "    if has_timestamp:\n",
    "        r[\"timestamp\"] = little_endian_to_int(stream.read(4))\n",
    "    r[\"services\"] = little_endian_to_int(stream.read(8))\n",
    "    r[\"ip\"] = bytes_to_ip(stream.read(16))\n",
    "    r[\"port\"] = big_endian_to_int(stream.read(2))\n",
    "    return r"
   ]
  },
  {
   "cell_type": "markdown",
   "metadata": {},
   "source": [
    "### Exercise: final `read_version_payload`"
   ]
  },
  {
   "cell_type": "code",
   "execution_count": null,
   "metadata": {},
   "outputs": [],
   "source": [
    "def read_version_payload(stream):\n",
    "    r = {}\n",
    "    r[\"version\"] = little_endian_to_int(stream.read(4))\n",
    "    r[\"services\"] = little_endian_to_int(stream.read(8))\n",
    "    r[\"timestamp\"] = little_endian_to_int(stream.read(8))\n",
    "    r[\"receiver_address\"] = read_address(stream, has_timestamp=False)\n",
    "    r[\"sender_address\"] = read_address(stream, has_timestamp=False)\n",
    "    r[\"nonce\"] = little_endian_to_int(stream.read(8))\n",
    "    r[\"user_agent\"] = read_varstr(stream)\n",
    "    r[\"start_height\"] = little_endian_to_int(stream.read(4))\n",
    "    r[\"relay\"] = little_endian_to_int(stream.read(1))\n",
    "    return r"
   ]
  },
  {
   "cell_type": "code",
   "execution_count": null,
   "metadata": {},
   "outputs": [],
   "source": []
  }
 ],
 "metadata": {
  "kernelspec": {
   "display_name": "Python 3",
   "language": "python",
   "name": "python3"
  },
  "language_info": {
   "codemirror_mode": {
    "name": "ipython",
    "version": 3
   },
   "file_extension": ".py",
   "mimetype": "text/x-python",
   "name": "python",
   "nbconvert_exporter": "python",
   "pygments_lexer": "ipython3",
   "version": "3.7.2"
  }
 },
 "nbformat": 4,
 "nbformat_minor": 2
}
