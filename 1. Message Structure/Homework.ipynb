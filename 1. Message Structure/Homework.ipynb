{
 "cells": [
  {
   "cell_type": "markdown",
   "metadata": {},
   "source": [
    "# Filling in the Gaps\n",
    "\n",
    "You're probably still a little confused about a few things from the lesson:\n",
    "\n",
    "* Why does `print(bytes([10, 100, 200])) -> b'\\nd\\xc8'` looks so odd? \n",
    "    * What's with the `\\n`? \n",
    "    * What's with the `\\x`? \n",
    "    * Are the `c` and the `8` related to the `\\x`?\n",
    "    * Is `d` related to either `\\n`, `\\x`, or neither?\n",
    "* How should we interpret these exotic byte literals when you encounter one _in the wild_?\n",
    "* How does the magical `int.from_bytes` function work?\n",
    "* How does its inverse function `int.to_bytes` work?\n",
    "\n",
    "To answer these questions we will make a `bites` class that acts just like `bytes`, but with a few minor differences: \n",
    "* Prints itself with strings (`\"\\x00\\xff\"`) instead of instead of the special `bytes` literals (`b\"\\x00\\xff\"`) .\n",
    "* Will duplicate the functionality of the magical `int.from_bytes` and `int.to_bytes` methods by implementing its `bites.from_int` and `bites.to_int` methods.\n",
    "\n",
    "Here's a skeleton of the class:"
   ]
  },
  {
   "cell_type": "code",
   "execution_count": 71,
   "metadata": {},
   "outputs": [
    {
     "ename": "SyntaxError",
     "evalue": "invalid syntax (<ipython-input-71-db365cdeb256>, line 3)",
     "output_type": "error",
     "traceback": [
      "\u001b[0;36m  File \u001b[0;32m\"<ipython-input-71-db365cdeb256>\"\u001b[0;36m, line \u001b[0;32m3\u001b[0m\n\u001b[0;31m    def __init__(self, ...):\u001b[0m\n\u001b[0m                         ^\u001b[0m\n\u001b[0;31mSyntaxError\u001b[0m\u001b[0;31m:\u001b[0m invalid syntax\n"
     ]
    }
   ],
   "source": [
    "class bites:\n",
    "    \n",
    "    def __init__(self, ...):\n",
    "        ...\n",
    "        \n",
    "    def __repr__(self):\n",
    "        return \"(cheating) \" + repr(self.values)\n",
    "\n",
    "    def to_int(self, byte_order):\n",
    "        raise NotImplementedError()\n",
    "    \n",
    "    @classmethod\n",
    "    def from_int(cls, n, length, byte_order):\n",
    "        raise NotImplementedError()"
   ]
  },
  {
   "cell_type": "markdown",
   "metadata": {},
   "source": [
    "# Representation & Numbers\n",
    "\n",
    "A \"byte\" is a value `x` such that `0 <= x < 256`.\n",
    "\n",
    "Simple.\n",
    "\n",
    "How can we represent a number above 256 as a series of bytes? Hmm ...\n",
    "\n",
    "Let's think about how we solve this with our normal decimal numbers. Instead of 256 separate values or \"places\", we only have 10 places with values `y` such that `0 <= y < 9`.\n",
    "\n",
    "What happens when we encounter a number outside this range? Say the number after 9, `9 + 1`? We no longer have a \"numberal\" or number symbol to represent it. We could invent one of course, but that would be a memorization nightmare ...\n",
    "\n",
    "Instead we employ an ingenius trick to utilize _two numerals to rempresent 1 number_. It's really clever when you think of it. Of course, we write this `9 + 1` as `10` -- the left character represents that we have run out of numerals 1 time. It's the 10's place. The right numberal says that we haven't started going up again. We can repeat this procedure indefinitely. Here's the number 518:\n",
    "\n",
    "<center>\n",
    "\n",
    "```\n",
    "     0              5           1         8\n",
    "----------  ...  ---------- ---------- ----------\n",
    "  10**n's          100's       10's       1's  \n",
    "\n",
    "``` \n",
    "</center>\n",
    "\n",
    "Therefore, any number `N` can be represented as a sum\n",
    "\n",
    "\n",
    "$$ \\sum_{i=0}^{i=n} a_{i} *  10^i = a_n *  10^n + ... + a_2 *  10^2 + a_1 *  10^1 + a_{0} *  10^0 $$\n",
    "\n",
    "\n",
    "We can employ exactly the same trick to represent numbers greater than 256 as a series of bytes (numbers 0 <= x < 256). Just replaces the old threshold 10 with the new threshold 256:\n",
    "\n",
    "$$ \\sum_{i=0}^{i=n} a_{i} * 256^i =  a_n * 256^n + ... + a_2 * 256^2 + a_1 * 256^1 + a_{0} * 256^0 $$\n",
    "\n",
    "The trick here is to go from an `int` to a list of values where each item represents a place in the base 256 expansion of the `int` we're dealing with. Here's the number 518 (2 * 256^1 + 6 * 256^0):\n",
    "\n",
    "<center>\n",
    "    \n",
    "```\n",
    "   0                0           2         6\n",
    "----------  ...  ---------- ---------- ----------\n",
    " 256**n's          65536's     256's       1's  \n",
    "\n",
    "```\n",
    "</center>\n",
    "\n",
    "So we have a representation. In Python we could use the `list` data structure to store this: $[a_n, ..., a_2, a_1, a_0]$. \n",
    "\n",
    "The decimal representation of 518 would have $a_2 = 5$, $a_1 = 1$, $a_0 = 8$ and leaving us with a representation of `[5, 1, 8]`. \n",
    "\n",
    "The base 256 respresentation of 518 would have $a_1 = 2$ and $a_0 = 6$ leaving us with a representation of `[2, 6]`\n",
    "\n",
    "Let's update the `bites` constructor to use this representation:"
   ]
  },
  {
   "cell_type": "code",
   "execution_count": 72,
   "metadata": {},
   "outputs": [],
   "source": [
    "class bites:\n",
    "    \n",
    "    def __init__(self, values):\n",
    "        # a list of numbers x: 0 <= x < 256 \n",
    "        self.values = values\n",
    "        \n",
    "    def __repr__(self):\n",
    "        return \"(cheating) \" + repr(self.values)\n",
    "\n",
    "    def to_int(self, byte_order):\n",
    "        raise NotImplementedError()\n",
    "    \n",
    "    @classmethod\n",
    "    def from_int(cls, n, length, byte_order):\n",
    "        raise NotImplementedError()"
   ]
  },
  {
   "cell_type": "markdown",
   "metadata": {},
   "source": [
    "Now we just need an algorithm to go back and forth between `bites` and `int`. Let's start with the `bites` -> `int` direction.\n",
    "\n",
    "# Implement `bites.to_int(places)` in FIXME steps"
   ]
  },
  {
   "cell_type": "markdown",
   "metadata": {},
   "source": [
    "Here's a number we will be working with throughout this lesson:"
   ]
  },
  {
   "cell_type": "code",
   "execution_count": 73,
   "metadata": {},
   "outputs": [],
   "source": [
    "N = 92837365"
   ]
  },
  {
   "cell_type": "markdown",
   "metadata": {},
   "source": [
    "Here is the list representation of the decimals / base-10 expansion of this number as discussed above:"
   ]
  },
  {
   "cell_type": "code",
   "execution_count": 74,
   "metadata": {},
   "outputs": [],
   "source": [
    "PLACES = [9, 2, 8, 3, 7, 3, 6, 5]"
   ]
  },
  {
   "cell_type": "markdown",
   "metadata": {},
   "source": [
    "## Step 1: `decimal_places_to_int(places)`\n",
    "\n",
    "Your first exercise is to write a `decimal_places_to_int(places)` function. It's correct if `decimal_places_to_int(PLACES) == N`.\n",
    "\n",
    "This is a tricky exercise so take your time with it!"
   ]
  },
  {
   "cell_type": "code",
   "execution_count": 75,
   "metadata": {},
   "outputs": [],
   "source": [
    "def decimal_places_to_int(places):\n",
    "    number = 0\n",
    "    places_reverse = places[::-1]\n",
    "    for i in range(len(places_reverse)):\n",
    "        number += places_reverse[i] * 10**i\n",
    "    return number"
   ]
  },
  {
   "cell_type": "code",
   "execution_count": 76,
   "metadata": {},
   "outputs": [
    {
     "name": "stdout",
     "output_type": "stream",
     "text": [
      "Test passed!\n"
     ]
    }
   ],
   "source": [
    "def test():\n",
    "    assert decimal_places_to_int(PLACES) == N\n",
    "    print(\"Test passed!\")\n",
    "\n",
    "test()"
   ]
  },
  {
   "cell_type": "markdown",
   "metadata": {},
   "source": [
    "## Step 2: `base_256_places_to_int(places)`\n",
    "\n",
    "Now do it with base-256.\n",
    "\n",
    "It's correct if `base_256_places_to_int([5, 136, 149, 245]) == N`\n",
    "\n",
    "This one's quite a bit easier!"
   ]
  },
  {
   "cell_type": "code",
   "execution_count": 77,
   "metadata": {},
   "outputs": [],
   "source": [
    "def base_256_places_to_int(places):\n",
    "    result = 0\n",
    "    places_reverse = places[::-1]\n",
    "    for i in range(len(places_reverse)):\n",
    "        result += places_reverse[i] * 256**i\n",
    "    return result"
   ]
  },
  {
   "cell_type": "code",
   "execution_count": 78,
   "metadata": {},
   "outputs": [
    {
     "name": "stdout",
     "output_type": "stream",
     "text": [
      "Test passed!\n"
     ]
    }
   ],
   "source": [
    "def test():\n",
    "    assert base_256_places_to_int([5, 136, 149, 245]) == N\n",
    "    print(\"Test passed!\")\n",
    "\n",
    "test()"
   ]
  },
  {
   "cell_type": "markdown",
   "metadata": {},
   "source": [
    "## Step 3: `places_to_int(places, base)`\n",
    "\n",
    "Modify `base_256_places_to_int` so that it accepts arbitrary bases (e.g. 10 or 256):"
   ]
  },
  {
   "cell_type": "code",
   "execution_count": 79,
   "metadata": {},
   "outputs": [],
   "source": [
    "def places_to_int(places, base):\n",
    "    result = 0\n",
    "    places_reverse = places[::-1]\n",
    "    for i in range(len(places_reverse)):\n",
    "        result += places_reverse[i] * base**i\n",
    "    return result"
   ]
  },
  {
   "cell_type": "code",
   "execution_count": 80,
   "metadata": {},
   "outputs": [
    {
     "name": "stdout",
     "output_type": "stream",
     "text": [
      "Test passed!\n"
     ]
    }
   ],
   "source": [
    "def test():\n",
    "    assert places_to_int([5, 136, 149, 245], 256) == N\n",
    "    assert places_to_int([int(x, 16) for x in hex(N)[2:]], 16) == N\n",
    "    assert places_to_int([int(x, 2) for x in bin(N)[2:]], 2) == N\n",
    "    print(\"Test passed!\")\n",
    "\n",
    "test()"
   ]
  },
  {
   "cell_type": "markdown",
   "metadata": {},
   "source": [
    "## Step 4: `places_to_int(places, base, byte_order)`\n",
    "\n",
    "This is how we've been choosing to represent the number `92837365` in base-256: `[5, 136, 149, 245]`\n",
    "\n",
    "The larger places on the left, smaller places to the right. Just like familiar decimal nubmers\n",
    "\n",
    "```\n",
    "    5     136     149     245\n",
    "-----   -----   -----   -----\n",
    "264^3   264^2   264^1   264^0\n",
    "```\n",
    "\n",
    "But isn't this choice completely arbitrary? Why not do the opposite: smaller places to the left, larger places to the right? \n",
    "\n",
    "```\n",
    "  245     149     136       5\n",
    "-----   -----   -----   -----\n",
    "264^0   264^1   264^2   264^3\n",
    "```\n",
    "\n",
    "These choices are completely arbitrary! Different areas of computer science prefer one way or the other.\n",
    "\n",
    "The order we've been using up to this point -- big places to the left, little places to the right -- is called **\"Big Endian\"**. This is preferred in network programming.\n",
    "\n",
    "The second one -- little places to the left, big places to the right -- is called **\"Little Endian\"**. This is how computers usually store information internally.\n",
    "\n",
    "Even within Bitcoin, Satoshi didn't choose one way or the other. He generally preferred \"little endian\" but he encodes IP addresses using \"big endian\". What a mess!\n",
    "\n",
    "You can find an interesting discussion of \"endianness\" [here](https://bitcoin.stackexchange.com/questions/2063/why-does-the-bitcoin-protocol-use-the-little-endian-notation) and a nice YouTube video [here](https://www.youtube.com/watch?v=seZLUbgbB7Y)\n",
    "\n",
    "\n",
    "##### Exercise: add another parameter to our function so that it can handle \"Little Endian\" byte order. \n",
    "\n",
    "* If `byte_order` is `\"little\"` you just need to reverse the list:\n",
    "* Raise a `ValueError` if `byte_order` isn't `\"big\"` or `\"little\"`"
   ]
  },
  {
   "cell_type": "code",
   "execution_count": 81,
   "metadata": {},
   "outputs": [],
   "source": [
    "from utils import assert_raises\n",
    "\n",
    "def places_to_int(places, base, byte_order):\n",
    "    if byte_order != \"big\" and byte_order != \"little\":\n",
    "        raise ValueError(\"byte_order is not big or little\")\n",
    "    if byte_order == \"big\":\n",
    "        places_converted = places[::-1]\n",
    "    else:\n",
    "        places_converted = places\n",
    "    result = 0\n",
    "    for i in range(len(places_converted)):\n",
    "        result += places_converted[i] * base**i\n",
    "    return result\n",
    "    "
   ]
  },
  {
   "cell_type": "code",
   "execution_count": 82,
   "metadata": {},
   "outputs": [
    {
     "name": "stdout",
     "output_type": "stream",
     "text": [
      "Successfully observed expected error: 'byte_order is not big or little'\n",
      "Test passes\n"
     ]
    }
   ],
   "source": [
    "def test():\n",
    "    assert places_to_int([5, 136, 149, 245], 256, 'big') == N\n",
    "    assert places_to_int([5, 136, 149, 245][::-1], 256, 'little') == N\n",
    "    \n",
    "    assert places_to_int([int(x, 16) for x in hex(N)[2:]], 16, 'big') == N\n",
    "    assert places_to_int([int(x, 16) for x in hex(N)[2:]][::-1], 16, 'little') == N\n",
    "\n",
    "    assert_raises(places_to_int, [], 10, 'foo')\n",
    "    \n",
    "    print(\"Test passes\")\n",
    "    \n",
    "test()"
   ]
  },
  {
   "cell_type": "markdown",
   "metadata": {},
   "source": [
    "## Step 5: `bites.to_int(base, byte_order)`\n",
    "\n",
    "Bring it all together. Implement the `bites.from_int` classmethod.\n",
    "\n",
    "Hint: return `cls(values)` ..."
   ]
  },
  {
   "cell_type": "code",
   "execution_count": 83,
   "metadata": {},
   "outputs": [],
   "source": [
    "class bites:\n",
    "    \n",
    "    def __init__(self, values):\n",
    "        self.values = values\n",
    "        \n",
    "    def __repr__(self):\n",
    "        return \"(cheating) \" + repr(self.values)\n",
    "    \n",
    "    def to_int(self, byte_order):\n",
    "        if byte_order != \"big\" and byte_order != \"little\":\n",
    "            raise ValueError(\"byte_order is not big or little\")\n",
    "        if byte_order == \"big\":\n",
    "            places_converted = self.values[::-1]\n",
    "        else:\n",
    "            places_converted = self.values\n",
    "        result = 0\n",
    "        for i in range(len(places_converted)):\n",
    "            result += places_converted[i] * 256**i\n",
    "        return int(result)\n",
    "    \n",
    "    @classmethod\n",
    "    def from_int(cls, n, length, byte_order):\n",
    "        raise NotImplementedError()"
   ]
  },
  {
   "cell_type": "code",
   "execution_count": 84,
   "metadata": {},
   "outputs": [],
   "source": [
    "def test():\n",
    "    places = [5, 136, 149, 245]\n",
    "    assert bites(places).to_int('big') == N\n",
    "    assert bites(places[::-1]).to_int('little') == N\n",
    "\n",
    "test()"
   ]
  },
  {
   "cell_type": "markdown",
   "metadata": {},
   "source": [
    "You've now completely implemented the functionality provided by `int.from_bytes`. Nice work! Now to the next method ...\n",
    "\n",
    "# Implement `bites.from_int(...)`\n",
    "\n",
    "`bites.to_int` handled `bites`-to-`int` conversions. Now let's implement a `bites.from_int` classmethod to do `int`-to-`bites` conversions. \n",
    "\n",
    "\n",
    "### `classmethod`\n",
    "\n",
    "If you want a refresher on classmethods, check out [this video](https://www.youtube.com/watch?v=rq8cL2XMM5M&t=18s). They're useful when you want to create an instance of a class from data which doesn't fit in the class' `__init__` [constructor](https://stackoverflow.com/a/8986413/2542016). In our case, we can't call `bites(92837365)` because the bites constructor expects a `list` and not an `int`. We could put some fancy logic in our `bites.__init__` to check if the argument is an integer and convert if it is -- but that is frowned upon because it makes the `__init__` function hard to read. \n",
    "\n",
    "Instead, we will write a `bites.from_int` classmethod which will allow us to create `bites` instances directly from `int`s: \n",
    "\n",
    "> ```some_bites = bites.from_int(some_int)```\n",
    "\n",
    "It will translate the `int` into a `list` and then pass that to the constructor `bites.__init__`. Our constructor stays nice and clean and we can still do type conversions!\n",
    "\n",
    "### Division\n",
    "\n",
    "`bytes.to_int` used multiplication: we started with a list of values, multified them by coefficients according to some rules, and added up the result.\n",
    "\n",
    "`bytes.from_int` will use division. We will start with a number and divide off the base-256 places one at a time. It will be like dealing from a deck of cards ....\n",
    "\n",
    "![ChessUrl](https://tenor.com/view/ref-with-yellow-cards-fifa18-pose-throw-cards-gif-12023802.gif \"chess\")\n",
    "\n",
    "\n",
    "Division can be confusing. [Watch the next 10 seconds of this childrens' video for a refresher](https://youtu.be/KGMf314LUc0?t=76).\n",
    "\n",
    "To compute $\\frac{x}{y}$, we just just take groups of `y` from `x` until some number less than `y` is left. What's left is called the \"remainder\". \n",
    "\n",
    "Here's some notation and vocab review to jog your memory:\n",
    "\n",
    "$$\n",
    "dividend ÷ divisor = quotient + \\frac{remainder}{divisor}\n",
    "$$\n",
    "\n",
    "$$\n",
    "\\require{enclose}\n",
    "\\begin{array}{rll}\n",
    "    quotient && \\hbox{+ remainder} \\\\[-3pt]\n",
    "   divisor \\enclose{longdiv}{dividend}\\kern-.2ex \\\\[-3pt]\n",
    "  \\end{array}\n",
    "$$\n",
    "\n",
    "$$\n",
    "\\frac{dividend}{divisor} = quotient + \\frac{remainder}{divisor} \\hspace{1cm} \\hbox{where remainder is < divisor} \n",
    "$$\n",
    "\n",
    "### Division in Python\n",
    "\n",
    "Python has 3 primary division operators:\n",
    "\n",
    "`/` is floating point division\n",
    "\n",
    "`//` is floor division\n",
    "\n",
    "`%` is the \"modulus\" (remainder after division)"
   ]
  },
  {
   "cell_type": "code",
   "execution_count": 85,
   "metadata": {},
   "outputs": [
    {
     "data": {
      "text/plain": [
       "2.5"
      ]
     },
     "execution_count": 85,
     "metadata": {},
     "output_type": "execute_result"
    }
   ],
   "source": [
    "# Floating point division\n",
    "# Returns quotient + remainder / divisor as a float\n",
    "\n",
    "5 / 2"
   ]
  },
  {
   "cell_type": "code",
   "execution_count": 86,
   "metadata": {},
   "outputs": [
    {
     "data": {
      "text/plain": [
       "2"
      ]
     },
     "execution_count": 86,
     "metadata": {},
     "output_type": "execute_result"
    }
   ],
   "source": [
    "# Floor division \n",
    "# Returns the quotient, discards the remainder\n",
    "\n",
    "5 // 2"
   ]
  },
  {
   "cell_type": "code",
   "execution_count": 87,
   "metadata": {},
   "outputs": [
    {
     "data": {
      "text/plain": [
       "1"
      ]
     },
     "execution_count": 87,
     "metadata": {},
     "output_type": "execute_result"
    }
   ],
   "source": [
    "# Modulus\n",
    "# Returns the remainder\n",
    "\n",
    "5 % 2"
   ]
  },
  {
   "cell_type": "markdown",
   "metadata": {},
   "source": [
    "Let's attempt to use these division operators to deconstruct the hex representation of N:"
   ]
  },
  {
   "cell_type": "code",
   "execution_count": 88,
   "metadata": {},
   "outputs": [
    {
     "data": {
      "text/plain": [
       "'0x58895f5'"
      ]
     },
     "execution_count": 88,
     "metadata": {},
     "output_type": "execute_result"
    }
   ],
   "source": [
    "hex(N)"
   ]
  },
  {
   "cell_type": "code",
   "execution_count": 89,
   "metadata": {},
   "outputs": [
    {
     "data": {
      "text/plain": [
       "'0x5'"
      ]
     },
     "execution_count": 89,
     "metadata": {},
     "output_type": "execute_result"
    }
   ],
   "source": [
    "# Modulus gives us the right-most place\n",
    "hex(N % 16)"
   ]
  },
  {
   "cell_type": "code",
   "execution_count": 90,
   "metadata": {},
   "outputs": [
    {
     "data": {
      "text/plain": [
       "'0x58895f'"
      ]
     },
     "execution_count": 90,
     "metadata": {},
     "output_type": "execute_result"
    }
   ],
   "source": [
    "# Floor division gives us the rest of the places\n",
    "hex(N // 16)"
   ]
  },
  {
   "cell_type": "code",
   "execution_count": 91,
   "metadata": {},
   "outputs": [
    {
     "data": {
      "text/plain": [
       "'0xf'"
      ]
     },
     "execution_count": 91,
     "metadata": {},
     "output_type": "execute_result"
    }
   ],
   "source": [
    "# Combining // and % can traverse the hex representation\n",
    "# This computs the 2nd place\n",
    "\n",
    "hex(N // 16 % 16)"
   ]
  },
  {
   "cell_type": "code",
   "execution_count": 92,
   "metadata": {
    "scrolled": true
   },
   "outputs": [
    {
     "data": {
      "text/plain": [
       "True"
      ]
     },
     "execution_count": 92,
     "metadata": {},
     "output_type": "execute_result"
    }
   ],
   "source": [
    "# How they're related\n",
    "N == 16 * (N // 16) + (N % 16)"
   ]
  },
  {
   "cell_type": "markdown",
   "metadata": {},
   "source": [
    "Now you know how to compute the 1's place ($16^0$) of the hexidecimal representation of N.\n",
    "\n",
    "##### Exercise: Compute the 1's place ($256^0$) of the base-256 representation of N"
   ]
  },
  {
   "cell_type": "code",
   "execution_count": 93,
   "metadata": {},
   "outputs": [
    {
     "data": {
      "text/plain": [
       "92837365"
      ]
     },
     "execution_count": 93,
     "metadata": {},
     "output_type": "execute_result"
    }
   ],
   "source": [
    "N"
   ]
  },
  {
   "cell_type": "code",
   "execution_count": 94,
   "metadata": {},
   "outputs": [
    {
     "data": {
      "text/plain": [
       "92837365"
      ]
     },
     "execution_count": 94,
     "metadata": {},
     "output_type": "execute_result"
    }
   ],
   "source": [
    "256 * (N // 256) + (N % 256)"
   ]
  },
  {
   "cell_type": "code",
   "execution_count": 95,
   "metadata": {},
   "outputs": [
    {
     "data": {
      "text/plain": [
       "245"
      ]
     },
     "execution_count": 95,
     "metadata": {},
     "output_type": "execute_result"
    }
   ],
   "source": [
    "N % 256"
   ]
  },
  {
   "cell_type": "code",
   "execution_count": 96,
   "metadata": {},
   "outputs": [],
   "source": [
    "def get_ones_place():\n",
    "    return N % 256"
   ]
  },
  {
   "cell_type": "code",
   "execution_count": 97,
   "metadata": {},
   "outputs": [],
   "source": [
    "def test_get_ones_place():\n",
    "    assert get_ones_place() == 245\n",
    "\n",
    "test_get_ones_place()"
   ]
  },
  {
   "cell_type": "markdown",
   "metadata": {},
   "source": [
    "Now you know how to compute the 1's place ($16^0$) of the hexidecimal and base-256 representations of N.\n",
    "\n",
    "##### Exercise: Compute the 65536's place ($256^2$) using only the `//` and `%` operators?"
   ]
  },
  {
   "cell_type": "code",
   "execution_count": 98,
   "metadata": {},
   "outputs": [],
   "source": [
    "def get_65536s_place():\n",
    "    return N // 256**2 % 256"
   ]
  },
  {
   "cell_type": "code",
   "execution_count": 99,
   "metadata": {},
   "outputs": [
    {
     "data": {
      "text/plain": [
       "136"
      ]
     },
     "execution_count": 99,
     "metadata": {},
     "output_type": "execute_result"
    }
   ],
   "source": [
    "get_65536s_place()"
   ]
  },
  {
   "cell_type": "code",
   "execution_count": 100,
   "metadata": {},
   "outputs": [],
   "source": [
    "def test_get_65536s_place():\n",
    "    return get_65536s_place() == 136"
   ]
  },
  {
   "cell_type": "markdown",
   "metadata": {},
   "source": [
    "## Step 1:  `int_to_256_places(n)`\n",
    "\n",
    "Use the techniques above to compute base-256 representation of numbers of the form discussed in `bites.to_int` section above.\n",
    "\n",
    "If you can't get it, check out the table 3 cells down ...."
   ]
  },
  {
   "cell_type": "code",
   "execution_count": 101,
   "metadata": {},
   "outputs": [
    {
     "data": {
      "text/plain": [
       "6"
      ]
     },
     "execution_count": 101,
     "metadata": {},
     "output_type": "execute_result"
    }
   ],
   "source": [
    "156 // 10**0 % 10"
   ]
  },
  {
   "cell_type": "code",
   "execution_count": 102,
   "metadata": {},
   "outputs": [
    {
     "data": {
      "text/plain": [
       "0"
      ]
     },
     "execution_count": 102,
     "metadata": {},
     "output_type": "execute_result"
    }
   ],
   "source": [
    "260 // 256**2"
   ]
  },
  {
   "cell_type": "code",
   "execution_count": 103,
   "metadata": {},
   "outputs": [
    {
     "data": {
      "text/plain": [
       "245"
      ]
     },
     "execution_count": 103,
     "metadata": {},
     "output_type": "execute_result"
    }
   ],
   "source": [
    "N % 256"
   ]
  },
  {
   "cell_type": "code",
   "execution_count": 104,
   "metadata": {},
   "outputs": [],
   "source": [
    "def int_to_base_256_places(n):\n",
    "    results = []\n",
    "    i = 0\n",
    "    while n // 256**i > 0:\n",
    "        results.append(n // 256**i % 256)\n",
    "        i += 1\n",
    "    return results[::-1]"
   ]
  },
  {
   "cell_type": "code",
   "execution_count": 105,
   "metadata": {},
   "outputs": [
    {
     "data": {
      "text/plain": [
       "[5, 136, 149, 245]"
      ]
     },
     "execution_count": 105,
     "metadata": {},
     "output_type": "execute_result"
    }
   ],
   "source": [
    "int_to_base_256_places(N)"
   ]
  },
  {
   "cell_type": "code",
   "execution_count": 106,
   "metadata": {
    "scrolled": true
   },
   "outputs": [],
   "source": [
    "def test():\n",
    "    assert int_to_base_256_places(N) == [5, 136, 149, 245]\n",
    "    \n",
    "test()"
   ]
  },
  {
   "cell_type": "markdown",
   "metadata": {},
   "source": [
    "Here's how my solution works:\n",
    "\n",
    "**step**|**n**|**places**|**explanation**\n",
    ":-----:|:-----:|:-----:|:-----:\n",
    " |92837365|[]|initial\n",
    "%|92837365|[245]|92837365 % 256 == 245\n",
    "//|362645|[245]|92837365 // 256 == 362645\n",
    "%|362645|[149, 245]|362645 % 256 == 149 ; insert at index 0\n",
    "//|1416|[149,  245]|362645 // 256 == 1416\n",
    "%|1416|[136, 149, 245]|1416 % 256 == 136 ; insert at index 0\n",
    "//|5|[136, 149, 245]|1416 // 256 == 5\n",
    "%|5|[5, 136, 149, 245]|5 % 256 == 5 ; insert at index 0\n",
    "//|0|[5, 136, 149, 245]|5 // 256 == 0\n",
    "...|...|...|loop terminates\n",
    "\n",
    "See how it's like dealing cards? With every loop we grab off the modulus and wipe out 1 factor of 256 from the polynomial expansion of `n` so that the next time we look for the modulus we'll get the next place. (FIXME: formatting below sucks)\n",
    "\n",
    "$$ a_n * 256^n + ... + a_1 * 256^1 + a_{0} * 256^0  \\mod 256 = a_0 $$\n",
    "$$ a_n * 256^n + ... + a_1 * 256^1 + a_{0} * 256^0  // 256 = a_{n-1} * 256^{n-1} + ... + a_1 * 256^0 + 0  $$\n",
    "$$  a_{n-1} * 256^{n-1} + ... + a_1 * 256^0  \\mod 256 = a_1 $$\n",
    "$$ ... $$"
   ]
  },
  {
   "cell_type": "markdown",
   "metadata": {},
   "source": [
    "## Step 2: `int_to_places(n, base)`\n",
    "\n",
    "Now add a second parameter to the function and rename it to `int_to_places(n, base)` so that it works with any base (e.g. 10 or 256).\n",
    "\n",
    "Test it against the binary, octal, and hex representations we say above. For example, we saw `hex(92837365)` was `0x58895f5`, so as a list it should be `[5, 8, 8, 9, 5, 15, 5]` (hex `f` equals decimal `15`)."
   ]
  },
  {
   "cell_type": "code",
   "execution_count": 107,
   "metadata": {},
   "outputs": [
    {
     "name": "stdout",
     "output_type": "stream",
     "text": [
      "[5, 8, 8, 9, 5, 15, 5]\n"
     ]
    }
   ],
   "source": [
    "def int_to_places(n, base):\n",
    "    results = []\n",
    "    i = 0\n",
    "    while n // base**i > 0:\n",
    "        results.append(n // base**i % base)\n",
    "        i += 1\n",
    "    return results[::-1]\n",
    "\n",
    "print(int_to_places(N, 16))  # is this what you expect?"
   ]
  },
  {
   "cell_type": "code",
   "execution_count": 108,
   "metadata": {},
   "outputs": [],
   "source": [
    "def test():\n",
    "    assert int_to_places(N, 256) == [5, 136, 149, 245]\n",
    "    assert int_to_places(N, 16) == [int(x, 16) for x in hex(N)[2:]]\n",
    "    assert int_to_places(N, 2) == [int(x, 2) for x in bin(N)[2:]]\n",
    "    \n",
    "test()"
   ]
  },
  {
   "cell_type": "markdown",
   "metadata": {},
   "source": [
    "## Step 3: `int_to_places(n, base, length)`\n",
    "\n",
    "Remember how every field in the protocol docs' \"Message Structure\" table has a `length` attribute?\n",
    "\n",
    "![image](../images/message-structure.png)\n",
    "\n",
    "We need to be able to support that, too. We should be able to say `int_to_places(1, 4)` and get [0, 0, 0, 1]. This feature helps us interpret and produce n-byte integer fields we encounter in the Bitcoin protocol.\n",
    "\n",
    "Raise a `ValueError` if `n` doesn't fit in that many `bites` using the given `base`"
   ]
  },
  {
   "cell_type": "code",
   "execution_count": 111,
   "metadata": {},
   "outputs": [],
   "source": [
    "def int_to_places(n, base, length):\n",
    "    if n // base**length != 0:\n",
    "        raise ValueError(\"length too short for value n\")\n",
    "    results = []\n",
    "    for i in range(length):\n",
    "        results.append(n // base**i % base)\n",
    "    return results[::-1]"
   ]
  },
  {
   "cell_type": "code",
   "execution_count": 113,
   "metadata": {},
   "outputs": [
    {
     "data": {
      "text/plain": [
       "[0, 0, 0, 0, 0, 0, 5, 136, 149, 245]"
      ]
     },
     "execution_count": 113,
     "metadata": {},
     "output_type": "execute_result"
    }
   ],
   "source": [
    "int_to_places(N, 256, 10)"
   ]
  },
  {
   "cell_type": "code",
   "execution_count": 112,
   "metadata": {},
   "outputs": [
    {
     "name": "stdout",
     "output_type": "stream",
     "text": [
      "Successfully observed expected error: 'length too short for value n'\n"
     ]
    }
   ],
   "source": [
    "def test():\n",
    "    assert int_to_places(N, 256, 10) == [0] * 6 + [5, 136, 149, 245]\n",
    "    \n",
    "    vals = [int(x, 16) for x in hex(N)[2:]]\n",
    "    zeros = [0] * (20 - len(vals))\n",
    "    assert int_to_places(N, 16, 20) == zeros + vals\n",
    "\n",
    "    # You need 2 places to encode 16 in hex (0x10)\n",
    "    assert_raises(int_to_places, 16, 16, 1)\n",
    "\n",
    "test()"
   ]
  },
  {
   "cell_type": "markdown",
   "metadata": {},
   "source": [
    "## Step 4:  `int_to_places(n, base, length, byte_order)`\n",
    "\n",
    "Add another parameter to our function so that it can handle \"Little Endian\" byte order. If the `byte_order` isn't `\"little\"` or `\"big\"` then raise a `ValueError`."
   ]
  },
  {
   "cell_type": "code",
   "execution_count": 118,
   "metadata": {},
   "outputs": [],
   "source": [
    "def int_to_places(n, base, length, byte_order):\n",
    "    if byte_order != \"big\" and byte_order != \"little\":\n",
    "        raise ValueError(\"no valid encoding order\")\n",
    "    if n // base**length != 0:\n",
    "        raise ValueError(\"length too short for value n\")\n",
    "    results = []\n",
    "    for i in range(length):\n",
    "        results.append(n // base**i % base)\n",
    "    if byte_order == \"big\":\n",
    "        results = results[::-1]\n",
    "    return results"
   ]
  },
  {
   "cell_type": "code",
   "execution_count": 119,
   "metadata": {},
   "outputs": [
    {
     "data": {
      "text/plain": [
       "[5, 136, 149, 245]"
      ]
     },
     "execution_count": 119,
     "metadata": {},
     "output_type": "execute_result"
    }
   ],
   "source": [
    "int_to_places(N, 256, 4, 'big')"
   ]
  },
  {
   "cell_type": "code",
   "execution_count": 120,
   "metadata": {},
   "outputs": [
    {
     "name": "stdout",
     "output_type": "stream",
     "text": [
      "Successfully observed expected error: 'no valid encoding order'\n"
     ]
    }
   ],
   "source": [
    "def test():\n",
    "    vals = [5, 136, 149, 245]\n",
    "    assert int_to_places(N, 256, len(vals), 'big') == vals\n",
    "    assert int_to_places(N, 256, len(vals), 'little') == vals[::-1]\n",
    "\n",
    "    vals = [int(x, 16) for x in hex(N)[2:]]\n",
    "    assert int_to_places(N, 16, len(vals), 'big') == vals\n",
    "    assert int_to_places(N, 16, len(vals), 'little') == vals[::-1]\n",
    "\n",
    "    assert_raises(int_to_places, 1, 10, 1, 'dog')\n",
    "\n",
    "test()"
   ]
  },
  {
   "cell_type": "markdown",
   "metadata": {},
   "source": [
    "## Step 5:  `bites.from_int(n, base, length, byte_order)`\n",
    "\n",
    "\n",
    "Let's put it all together. Fill out the `from_int` method below and get the tests to pass"
   ]
  },
  {
   "cell_type": "code",
   "execution_count": 141,
   "metadata": {},
   "outputs": [],
   "source": [
    "class bites:\n",
    "    \n",
    "    def __init__(self, values):\n",
    "        self.values = values\n",
    "        \n",
    "    def __repr__(self):\n",
    "        return \"(cheating) \" + repr(self.values)\n",
    "    \n",
    "    def to_int(self, byte_order):\n",
    "        return places_to_int(self.values, 256, byte_order)\n",
    "    \n",
    "    @classmethod\n",
    "    def from_int(cls, n, length, byte_order):\n",
    "        if byte_order != \"big\" and byte_order != \"little\":\n",
    "            raise ValueError(\"no valid encoding order\")\n",
    "        if n // 256**length != 0:\n",
    "            raise ValueError(\"length too short for value n\")\n",
    "        results = []\n",
    "        for i in range(length):\n",
    "            results.append(n // 256**i % 256)\n",
    "        if byte_order == \"big\":\n",
    "            results = results[::-1]\n",
    "        return cls(results)"
   ]
  },
  {
   "cell_type": "code",
   "execution_count": 142,
   "metadata": {},
   "outputs": [
    {
     "data": {
      "text/plain": [
       "[5, 136, 149, 245]"
      ]
     },
     "execution_count": 142,
     "metadata": {},
     "output_type": "execute_result"
    }
   ],
   "source": [
    "bites.from_int(N, 4, 'big').values"
   ]
  },
  {
   "cell_type": "code",
   "execution_count": 143,
   "metadata": {},
   "outputs": [],
   "source": [
    "def test():\n",
    "    vals = [5, 136, 149, 245]\n",
    "    assert bites.from_int(N, len(vals), 'big').values == vals\n",
    "    assert bites.from_int(N, len(vals), 'little').values == vals[::-1]\n",
    "    \n",
    "    # round trip\n",
    "    assert bites.from_int(N, 4, 'big').to_int('big') == N\n",
    "\n",
    "test()"
   ]
  },
  {
   "cell_type": "markdown",
   "metadata": {},
   "source": [
    "# `bites.__repr__`\n",
    "\n",
    "The representations of Python objects are determined by `.__repr__()` methods.\n",
    "\n",
    "Let's see `bytes.__repr__` in action:"
   ]
  },
  {
   "cell_type": "code",
   "execution_count": 144,
   "metadata": {},
   "outputs": [
    {
     "name": "stdout",
     "output_type": "stream",
     "text": [
      "0 -> b'\\x00'\n",
      "1 -> b'\\x01'\n",
      "2 -> b'\\x02'\n",
      "3 -> b'\\x03'\n",
      "4 -> b'\\x04'\n",
      "5 -> b'\\x05'\n",
      "6 -> b'\\x06'\n",
      "7 -> b'\\x07'\n",
      "8 -> b'\\x08'\n",
      "9 -> b'\\t'\n",
      "10 -> b'\\n'\n",
      "11 -> b'\\x0b'\n",
      "12 -> b'\\x0c'\n",
      "13 -> b'\\r'\n",
      "14 -> b'\\x0e'\n",
      "15 -> b'\\x0f'\n",
      "16 -> b'\\x10'\n",
      "17 -> b'\\x11'\n",
      "18 -> b'\\x12'\n",
      "19 -> b'\\x13'\n",
      "20 -> b'\\x14'\n",
      "21 -> b'\\x15'\n",
      "22 -> b'\\x16'\n",
      "23 -> b'\\x17'\n",
      "24 -> b'\\x18'\n",
      "25 -> b'\\x19'\n",
      "26 -> b'\\x1a'\n",
      "27 -> b'\\x1b'\n",
      "28 -> b'\\x1c'\n",
      "29 -> b'\\x1d'\n",
      "30 -> b'\\x1e'\n",
      "31 -> b'\\x1f'\n",
      "32 -> b' '\n",
      "33 -> b'!'\n",
      "34 -> b'\"'\n",
      "35 -> b'#'\n",
      "36 -> b'$'\n",
      "37 -> b'%'\n",
      "38 -> b'&'\n",
      "39 -> b\"'\"\n",
      "40 -> b'('\n",
      "41 -> b')'\n",
      "42 -> b'*'\n",
      "43 -> b'+'\n",
      "44 -> b','\n",
      "45 -> b'-'\n",
      "46 -> b'.'\n",
      "47 -> b'/'\n",
      "48 -> b'0'\n",
      "49 -> b'1'\n",
      "50 -> b'2'\n",
      "51 -> b'3'\n",
      "52 -> b'4'\n",
      "53 -> b'5'\n",
      "54 -> b'6'\n",
      "55 -> b'7'\n",
      "56 -> b'8'\n",
      "57 -> b'9'\n",
      "58 -> b':'\n",
      "59 -> b';'\n",
      "60 -> b'<'\n",
      "61 -> b'='\n",
      "62 -> b'>'\n",
      "63 -> b'?'\n",
      "64 -> b'@'\n",
      "65 -> b'A'\n",
      "66 -> b'B'\n",
      "67 -> b'C'\n",
      "68 -> b'D'\n",
      "69 -> b'E'\n",
      "70 -> b'F'\n",
      "71 -> b'G'\n",
      "72 -> b'H'\n",
      "73 -> b'I'\n",
      "74 -> b'J'\n",
      "75 -> b'K'\n",
      "76 -> b'L'\n",
      "77 -> b'M'\n",
      "78 -> b'N'\n",
      "79 -> b'O'\n",
      "80 -> b'P'\n",
      "81 -> b'Q'\n",
      "82 -> b'R'\n",
      "83 -> b'S'\n",
      "84 -> b'T'\n",
      "85 -> b'U'\n",
      "86 -> b'V'\n",
      "87 -> b'W'\n",
      "88 -> b'X'\n",
      "89 -> b'Y'\n",
      "90 -> b'Z'\n",
      "91 -> b'['\n",
      "92 -> b'\\\\'\n",
      "93 -> b']'\n",
      "94 -> b'^'\n",
      "95 -> b'_'\n",
      "96 -> b'`'\n",
      "97 -> b'a'\n",
      "98 -> b'b'\n",
      "99 -> b'c'\n",
      "100 -> b'd'\n",
      "101 -> b'e'\n",
      "102 -> b'f'\n",
      "103 -> b'g'\n",
      "104 -> b'h'\n",
      "105 -> b'i'\n",
      "106 -> b'j'\n",
      "107 -> b'k'\n",
      "108 -> b'l'\n",
      "109 -> b'm'\n",
      "110 -> b'n'\n",
      "111 -> b'o'\n",
      "112 -> b'p'\n",
      "113 -> b'q'\n",
      "114 -> b'r'\n",
      "115 -> b's'\n",
      "116 -> b't'\n",
      "117 -> b'u'\n",
      "118 -> b'v'\n",
      "119 -> b'w'\n",
      "120 -> b'x'\n",
      "121 -> b'y'\n",
      "122 -> b'z'\n",
      "123 -> b'{'\n",
      "124 -> b'|'\n",
      "125 -> b'}'\n",
      "126 -> b'~'\n",
      "127 -> b'\\x7f'\n",
      "128 -> b'\\x80'\n",
      "129 -> b'\\x81'\n",
      "130 -> b'\\x82'\n",
      "131 -> b'\\x83'\n",
      "132 -> b'\\x84'\n",
      "133 -> b'\\x85'\n",
      "134 -> b'\\x86'\n",
      "135 -> b'\\x87'\n",
      "136 -> b'\\x88'\n",
      "137 -> b'\\x89'\n",
      "138 -> b'\\x8a'\n",
      "139 -> b'\\x8b'\n",
      "140 -> b'\\x8c'\n",
      "141 -> b'\\x8d'\n",
      "142 -> b'\\x8e'\n",
      "143 -> b'\\x8f'\n",
      "144 -> b'\\x90'\n",
      "145 -> b'\\x91'\n",
      "146 -> b'\\x92'\n",
      "147 -> b'\\x93'\n",
      "148 -> b'\\x94'\n",
      "149 -> b'\\x95'\n",
      "150 -> b'\\x96'\n",
      "151 -> b'\\x97'\n",
      "152 -> b'\\x98'\n",
      "153 -> b'\\x99'\n",
      "154 -> b'\\x9a'\n",
      "155 -> b'\\x9b'\n",
      "156 -> b'\\x9c'\n",
      "157 -> b'\\x9d'\n",
      "158 -> b'\\x9e'\n",
      "159 -> b'\\x9f'\n",
      "160 -> b'\\xa0'\n",
      "161 -> b'\\xa1'\n",
      "162 -> b'\\xa2'\n",
      "163 -> b'\\xa3'\n",
      "164 -> b'\\xa4'\n",
      "165 -> b'\\xa5'\n",
      "166 -> b'\\xa6'\n",
      "167 -> b'\\xa7'\n",
      "168 -> b'\\xa8'\n",
      "169 -> b'\\xa9'\n",
      "170 -> b'\\xaa'\n",
      "171 -> b'\\xab'\n",
      "172 -> b'\\xac'\n",
      "173 -> b'\\xad'\n",
      "174 -> b'\\xae'\n",
      "175 -> b'\\xaf'\n",
      "176 -> b'\\xb0'\n",
      "177 -> b'\\xb1'\n",
      "178 -> b'\\xb2'\n",
      "179 -> b'\\xb3'\n",
      "180 -> b'\\xb4'\n",
      "181 -> b'\\xb5'\n",
      "182 -> b'\\xb6'\n",
      "183 -> b'\\xb7'\n",
      "184 -> b'\\xb8'\n",
      "185 -> b'\\xb9'\n",
      "186 -> b'\\xba'\n",
      "187 -> b'\\xbb'\n",
      "188 -> b'\\xbc'\n",
      "189 -> b'\\xbd'\n",
      "190 -> b'\\xbe'\n",
      "191 -> b'\\xbf'\n",
      "192 -> b'\\xc0'\n",
      "193 -> b'\\xc1'\n",
      "194 -> b'\\xc2'\n",
      "195 -> b'\\xc3'\n",
      "196 -> b'\\xc4'\n",
      "197 -> b'\\xc5'\n",
      "198 -> b'\\xc6'\n",
      "199 -> b'\\xc7'\n",
      "200 -> b'\\xc8'\n",
      "201 -> b'\\xc9'\n",
      "202 -> b'\\xca'\n",
      "203 -> b'\\xcb'\n",
      "204 -> b'\\xcc'\n",
      "205 -> b'\\xcd'\n",
      "206 -> b'\\xce'\n",
      "207 -> b'\\xcf'\n",
      "208 -> b'\\xd0'\n",
      "209 -> b'\\xd1'\n",
      "210 -> b'\\xd2'\n",
      "211 -> b'\\xd3'\n",
      "212 -> b'\\xd4'\n",
      "213 -> b'\\xd5'\n",
      "214 -> b'\\xd6'\n",
      "215 -> b'\\xd7'\n",
      "216 -> b'\\xd8'\n",
      "217 -> b'\\xd9'\n",
      "218 -> b'\\xda'\n",
      "219 -> b'\\xdb'\n",
      "220 -> b'\\xdc'\n",
      "221 -> b'\\xdd'\n",
      "222 -> b'\\xde'\n",
      "223 -> b'\\xdf'\n",
      "224 -> b'\\xe0'\n",
      "225 -> b'\\xe1'\n",
      "226 -> b'\\xe2'\n",
      "227 -> b'\\xe3'\n",
      "228 -> b'\\xe4'\n",
      "229 -> b'\\xe5'\n",
      "230 -> b'\\xe6'\n",
      "231 -> b'\\xe7'\n",
      "232 -> b'\\xe8'\n",
      "233 -> b'\\xe9'\n",
      "234 -> b'\\xea'\n",
      "235 -> b'\\xeb'\n",
      "236 -> b'\\xec'\n",
      "237 -> b'\\xed'\n",
      "238 -> b'\\xee'\n",
      "239 -> b'\\xef'\n",
      "240 -> b'\\xf0'\n",
      "241 -> b'\\xf1'\n",
      "242 -> b'\\xf2'\n",
      "243 -> b'\\xf3'\n",
      "244 -> b'\\xf4'\n",
      "245 -> b'\\xf5'\n",
      "246 -> b'\\xf6'\n",
      "247 -> b'\\xf7'\n",
      "248 -> b'\\xf8'\n",
      "249 -> b'\\xf9'\n",
      "250 -> b'\\xfa'\n",
      "251 -> b'\\xfb'\n",
      "252 -> b'\\xfc'\n",
      "253 -> b'\\xfd'\n",
      "254 -> b'\\xfe'\n",
      "255 -> b'\\xff'\n"
     ]
    }
   ],
   "source": [
    "for i in range(256):\n",
    "    print(i, \"->\", bytes([i]))"
   ]
  },
  {
   "cell_type": "markdown",
   "metadata": {},
   "source": [
    "I want you to implement a function that can print `bites` instances in the same way. To assist with this one I'm going to give you a list of character codes that have special meaning to `bytes`.\n",
    "\n",
    "Below is a dictionary containing an `int -> ascii character` mapping of all numbers in 0 <= x < 256 with special meaning to `bytes`."
   ]
  },
  {
   "cell_type": "code",
   "execution_count": 145,
   "metadata": {
    "scrolled": false
   },
   "outputs": [
    {
     "name": "stdout",
     "output_type": "stream",
     "text": [
      "{9: '\\t', 10: '\\n', 13: '\\r', 32: ' ', 33: '!', 34: '\"', 35: '#', 36: '$', 37: '%', 38: '&', 39: \"'\", 40: '(', 41: ')', 42: '*', 43: '+', 44: ',', 45: '-', 46: '.', 47: '/', 48: '0', 49: '1', 50: '2', 51: '3', 52: '4', 53: '5', 54: '6', 55: '7', 56: '8', 57: '9', 58: ':', 59: ';', 60: '<', 61: '=', 62: '>', 63: '?', 64: '@', 65: 'A', 66: 'B', 67: 'C', 68: 'D', 69: 'E', 70: 'F', 71: 'G', 72: 'H', 73: 'I', 74: 'J', 75: 'K', 76: 'L', 77: 'M', 78: 'N', 79: 'O', 80: 'P', 81: 'Q', 82: 'R', 83: 'S', 84: 'T', 85: 'U', 86: 'V', 87: 'W', 88: 'X', 89: 'Y', 90: 'Z', 91: '[', 92: '\\\\', 93: ']', 94: '^', 95: '_', 96: '`', 97: 'a', 98: 'b', 99: 'c', 100: 'd', 101: 'e', 102: 'f', 103: 'g', 104: 'h', 105: 'i', 106: 'j', 107: 'k', 108: 'l', 109: 'm', 110: 'n', 111: 'o', 112: 'p', 113: 'q', 114: 'r', 115: 's', 116: 't', 117: 'u', 118: 'v', 119: 'w', 120: 'x', 121: 'y', 122: 'z', 123: '{', 124: '|', 125: '}', 126: '~'}\n"
     ]
    }
   ],
   "source": [
    "from utils import special_chars\n",
    "\n",
    "print(special_chars)"
   ]
  },
  {
   "cell_type": "markdown",
   "metadata": {},
   "source": [
    "Any value left unassigned by that dictionary should be converted into \"\\x\" + hexidecimal representation. For example the number 150 is ontside the dictionary. It would therefore be presented as `\"\\x96\"` because it's hexidecimal representation is `96`.\n",
    "\n",
    "### Exercise: Implement a  `represent` function that works exactly like `bytes.__repr__` but with strings\n",
    "\n",
    "Here's how it should work:\n",
    "\n",
    "`represent(bytes([145, 22, 75, 152, 83])) -> \"\\x91\\x16K\\x98S\"`\n",
    "\n",
    "Hint: to put a `\\` in a string you need to escape like `\\\\`. So a newline `\\n` for example would need to be input as `\\\\n`."
   ]
  },
  {
   "cell_type": "code",
   "execution_count": 146,
   "metadata": {},
   "outputs": [
    {
     "data": {
      "text/plain": [
       "'\\\\x91\\\\x16K\\\\x98S'"
      ]
     },
     "execution_count": 146,
     "metadata": {},
     "output_type": "execute_result"
    }
   ],
   "source": [
    "def represent(b):\n",
    "    result = \"\"\n",
    "    for n in b.values:\n",
    "        if n in special_chars:\n",
    "            result += special_chars[n]\n",
    "        else:\n",
    "            result += '\\\\x' + hex(n)[2:]\n",
    "    return result\n",
    "\n",
    "# How does it look?\n",
    "represent(bites([145, 22, 75, 152, 83]))"
   ]
  },
  {
   "cell_type": "code",
   "execution_count": 147,
   "metadata": {},
   "outputs": [],
   "source": [
    "def test():\n",
    "    assert represent(bites([145, 22, 75, 152, 83])) == \"\\\\x91\\\\x16K\\\\x98S\"\n",
    "\n",
    "test()"
   ]
  },
  {
   "cell_type": "markdown",
   "metadata": {},
   "source": [
    "# Put it all together (with some help from our friends)\n",
    "\n",
    "I'm going to add 2 methods that our Lesson 1 code requires: `.strip` and `__eq__`. To simplify things I just convert to `bytes` and have it do all the work. I'll explain these after the exercise ...\n",
    "\n",
    "Go ahead an copy your solution from the last exercise into place as `bites.__repr__`:"
   ]
  },
  {
   "cell_type": "code",
   "execution_count": 150,
   "metadata": {},
   "outputs": [
    {
     "data": {
      "text/plain": [
       "\\x91\\x16K\\x98S"
      ]
     },
     "execution_count": 150,
     "metadata": {},
     "output_type": "execute_result"
    }
   ],
   "source": [
    "class bites:\n",
    "    \n",
    "    def __init__(self, values):\n",
    "        self.values = values\n",
    "    \n",
    "    def __eq__(self, other):\n",
    "        return self.values == other.values\n",
    "    \n",
    "    def __repr__(self):\n",
    "        result = \"\"\n",
    "        for n in self.values:\n",
    "            if n in special_chars:\n",
    "                result += special_chars[n]\n",
    "            else:\n",
    "                result += '\\\\x' + hex(n)[2:]\n",
    "        return result\n",
    "    \n",
    "    def to_int(self, byte_order):\n",
    "        return places_to_int(self.values, 256, byte_order)\n",
    "    \n",
    "    @classmethod\n",
    "    def from_int(cls, n, length, byte_order):\n",
    "        places = int_to_places(n, 256, length, byte_order)\n",
    "        return cls(places)\n",
    "\n",
    "    def strip(self, pattern):\n",
    "        return bites(list(bytes(self.values).strip(pattern)))\n",
    "\n",
    "# How does it look?\n",
    "bites([145, 22, 75, 152, 83])"
   ]
  },
  {
   "cell_type": "code",
   "execution_count": 151,
   "metadata": {},
   "outputs": [],
   "source": [
    "def test():\n",
    "    assert repr(bites([145, 22, 75, 152, 83])) == \"\\\\x91\\\\x16K\\\\x98S\"\n",
    "\n",
    "test()"
   ]
  },
  {
   "cell_type": "markdown",
   "metadata": {},
   "source": [
    "### `bites.__eq__`\n",
    "\n",
    "needed for  magic bytes comparisons"
   ]
  },
  {
   "cell_type": "code",
   "execution_count": 152,
   "metadata": {},
   "outputs": [
    {
     "data": {
      "text/plain": [
       "True"
      ]
     },
     "execution_count": 152,
     "metadata": {},
     "output_type": "execute_result"
    }
   ],
   "source": [
    "bites([0xf9, 0xbe, 0xb4, 0xd9]) == bites([0xF9, 0xBE, 0xB4, 0xD9])"
   ]
  },
  {
   "cell_type": "markdown",
   "metadata": {
    "scrolled": true
   },
   "source": [
    "### `bites.strip()` needed for reading commands"
   ]
  },
  {
   "cell_type": "code",
   "execution_count": 153,
   "metadata": {
    "scrolled": true
   },
   "outputs": [
    {
     "name": "stdout",
     "output_type": "stream",
     "text": [
      "unstripped: version\\x0\\x0\\x0\\x0\\x0\n",
      "stripped: version\n"
     ]
    }
   ],
   "source": [
    "b = bites(list(b\"version\\x00\\x00\\x00\\x00\\x00\"))\n",
    "\n",
    "print(\"unstripped:\", b)\n",
    "print(\"stripped:\", b.strip(b\"\\x00\"))"
   ]
  },
  {
   "cell_type": "markdown",
   "metadata": {},
   "source": [
    "### `BiteStream`\n",
    "\n",
    "This class turns streams of `bytes` into streams of `bites`"
   ]
  },
  {
   "cell_type": "code",
   "execution_count": 158,
   "metadata": {},
   "outputs": [],
   "source": [
    "class BitesStream:\n",
    "\n",
    "    def __init__(self, stream):\n",
    "        self.stream = stream\n",
    "\n",
    "    def read(self, n):\n",
    "        return bites(list(self.stream.read(n)))\n",
    "        \n",
    "    def __getattr__(self, name):\n",
    "        return getattr(self.f, name)"
   ]
  },
  {
   "cell_type": "markdown",
   "metadata": {},
   "source": [
    "### Hashing `bites`\n",
    "\n",
    "`hashlib.sha256` requires inputs to the \"Buffer API\" which we won't bother with (you've got to implement it in C ...)"
   ]
  },
  {
   "cell_type": "code",
   "execution_count": 166,
   "metadata": {},
   "outputs": [],
   "source": [
    "from hashlib import sha256\n",
    "\n",
    "def compute_checksum(b):\n",
    "    hashed = sha256(sha256(bytes(b.values)).digest()).digest()\n",
    "    checksum = hashed[:4]\n",
    "    return b.__class__(list(checksum))"
   ]
  },
  {
   "cell_type": "markdown",
   "metadata": {},
   "source": [
    "# Reading Bitcoin Messages From `bites`"
   ]
  },
  {
   "cell_type": "markdown",
   "metadata": {},
   "source": [
    "A couple small tweeks to make our `NetworkEnvelope` class developed in Lesson 1 work with `bites` instead of `bytes`"
   ]
  },
  {
   "cell_type": "code",
   "execution_count": 167,
   "metadata": {},
   "outputs": [],
   "source": [
    "NETWORK_MAGIC = bites([0xf9, 0xbe, 0xb4, 0xd9])\n",
    "\n",
    "class NetworkEnvelope:\n",
    "\n",
    "    def __init__(self, command, payload):\n",
    "        self.command = command\n",
    "        self.payload = payload\n",
    "\n",
    "    @classmethod\n",
    "    def from_stream(cls, stream):\n",
    "        magic = stream.read(4)\n",
    "        if magic != NETWORK_MAGIC:\n",
    "            raise ValueError('Network magic is wrong')\n",
    "\n",
    "        command = stream.read(12).strip(b\"\\x00\")\n",
    "        payload_length = stream.read(4).to_int('little')\n",
    "        checksum = stream.read(4)\n",
    "        payload = stream.read(payload_length)\n",
    "        \n",
    "        if checksum != compute_checksum(payload):  # homework: make bites subscriptable ...\n",
    "            raise RuntimeError(\"Checksums don't match\")\n",
    "\n",
    "        return cls(command, payload)\n",
    "\n",
    "    def __repr__(self):\n",
    "        return f\"<Message command={self.command}>\""
   ]
  },
  {
   "cell_type": "code",
   "execution_count": 169,
   "metadata": {},
   "outputs": [
    {
     "name": "stdout",
     "output_type": "stream",
     "text": [
      "<Message command=version>\n"
     ]
    },
    {
     "ename": "TypeError",
     "evalue": "to_int() missing 1 required positional argument: 'byte_order'",
     "output_type": "error",
     "traceback": [
      "\u001b[0;31m---------------------------------------------------------------------------\u001b[0m",
      "\u001b[0;31mTypeError\u001b[0m                                 Traceback (most recent call last)",
      "\u001b[0;32m<ipython-input-169-88cec9a5d857>\u001b[0m in \u001b[0;36m<module>\u001b[0;34m\u001b[0m\n\u001b[1;32m     19\u001b[0m \u001b[0;34m\u001b[0m\u001b[0m\n\u001b[1;32m     20\u001b[0m \u001b[0mprint\u001b[0m\u001b[0;34m(\u001b[0m\u001b[0mmsg\u001b[0m\u001b[0;34m)\u001b[0m\u001b[0;34m\u001b[0m\u001b[0;34m\u001b[0m\u001b[0m\n\u001b[0;32m---> 21\u001b[0;31m \u001b[0mprint\u001b[0m\u001b[0;34m(\u001b[0m\u001b[0mmsg\u001b[0m\u001b[0;34m.\u001b[0m\u001b[0mpayload\u001b[0m\u001b[0;34m.\u001b[0m\u001b[0mto_int\u001b[0m\u001b[0;34m(\u001b[0m\u001b[0;34m)\u001b[0m\u001b[0;34m)\u001b[0m\u001b[0;34m\u001b[0m\u001b[0;34m\u001b[0m\u001b[0m\n\u001b[0m",
      "\u001b[0;31mTypeError\u001b[0m: to_int() missing 1 required positional argument: 'byte_order'"
     ]
    }
   ],
   "source": [
    "import socket\n",
    "\n",
    "# magic \"version\" bytestring\n",
    "VERSION = b'\\xf9\\xbe\\xb4\\xd9version\\x00\\x00\\x00\\x00\\x00j\\x00\\x00\\x00\\x9b\"\\x8b\\x9e\\x7f\\x11\\x01\\x00\\x0f\\x04\\x00\\x00\\x00\\x00\\x00\\x00\\x93AU[\\x00\\x00\\x00\\x00\\x0f\\x04\\x00\\x00\\x00\\x00\\x00\\x00\\x00\\x00\\x00\\x00\\x00\\x00\\x00\\x00\\x00\\x00\\x00\\x00\\x00\\x00\\x00\\x00\\x00\\x00\\x0f\\x04\\x00\\x00\\x00\\x00\\x00\\x00\\x00\\x00\\x00\\x00\\x00\\x00\\x00\\x00\\x00\\x00\\x00\\x00\\x00\\x00\\x00\\x00\\x00\\x00rV\\xc5C\\x9b:\\xea\\x89\\x14/some-cool-software/\\x01\\x00\\x00\\x00\\x01'\n",
    "\n",
    "PEER_IP = \"85.234.209.217\"\n",
    "PEER_PORT = 8333\n",
    "\n",
    "sock = socket.socket()\n",
    "sock.connect((PEER_IP, PEER_PORT))\n",
    "stream = sock.makefile('rb')\n",
    "bites_stream = BitesStream(stream)\n",
    "\n",
    "# initiate the \"version handshake\"\n",
    "sock.send(VERSION)\n",
    "\n",
    "# receive their \"version\" response\n",
    "msg = NetworkEnvelope.from_stream(bites_stream)\n",
    "\n",
    "print(msg)\n",
    "print(msg.payload)"
   ]
  },
  {
   "cell_type": "code",
   "execution_count": 173,
   "metadata": {},
   "outputs": [
    {
     "data": {
      "text/plain": [
       "[127,\n",
       " 17,\n",
       " 1,\n",
       " 0,\n",
       " 13,\n",
       " 4,\n",
       " 0,\n",
       " 0,\n",
       " 0,\n",
       " 0,\n",
       " 0,\n",
       " 0,\n",
       " 196,\n",
       " 197,\n",
       " 86,\n",
       " 92,\n",
       " 0,\n",
       " 0,\n",
       " 0,\n",
       " 0,\n",
       " 0,\n",
       " 0,\n",
       " 0,\n",
       " 0,\n",
       " 0,\n",
       " 0,\n",
       " 0,\n",
       " 0,\n",
       " 0,\n",
       " 0,\n",
       " 0,\n",
       " 0,\n",
       " 0,\n",
       " 0,\n",
       " 0,\n",
       " 0,\n",
       " 0,\n",
       " 0,\n",
       " 255,\n",
       " 255,\n",
       " 31,\n",
       " 10,\n",
       " 150,\n",
       " 60,\n",
       " 99,\n",
       " 155,\n",
       " 13,\n",
       " 4,\n",
       " 0,\n",
       " 0,\n",
       " 0,\n",
       " 0,\n",
       " 0,\n",
       " 0,\n",
       " 0,\n",
       " 0,\n",
       " 0,\n",
       " 0,\n",
       " 0,\n",
       " 0,\n",
       " 0,\n",
       " 0,\n",
       " 0,\n",
       " 0,\n",
       " 0,\n",
       " 0,\n",
       " 0,\n",
       " 0,\n",
       " 0,\n",
       " 0,\n",
       " 0,\n",
       " 0,\n",
       " 196,\n",
       " 115,\n",
       " 163,\n",
       " 172,\n",
       " 98,\n",
       " 222,\n",
       " 234,\n",
       " 69,\n",
       " 16,\n",
       " 47,\n",
       " 83,\n",
       " 97,\n",
       " 116,\n",
       " 111,\n",
       " 115,\n",
       " 104,\n",
       " 105,\n",
       " 58,\n",
       " 48,\n",
       " 46,\n",
       " 49,\n",
       " 55,\n",
       " 46,\n",
       " 49,\n",
       " 47,\n",
       " 192,\n",
       " 144,\n",
       " 8,\n",
       " 0,\n",
       " 1]"
      ]
     },
     "execution_count": 173,
     "metadata": {},
     "output_type": "execute_result"
    }
   ],
   "source": [
    "msg.payload.values"
   ]
  },
  {
   "cell_type": "code",
   "execution_count": 171,
   "metadata": {},
   "outputs": [
    {
     "data": {
      "text/plain": [
       "216903867539253148402020219200948781647469366125018095432120378233580509455105829032722192117376461819218565968186501081608266657376189678501107684288671247778699304325486666163181021414769848384952932992474607653542448130874302277719731242270721"
      ]
     },
     "execution_count": 171,
     "metadata": {},
     "output_type": "execute_result"
    }
   ],
   "source": [
    "msg.payload.to_int(\"big\")"
   ]
  },
  {
   "cell_type": "code",
   "execution_count": null,
   "metadata": {},
   "outputs": [],
   "source": []
  }
 ],
 "metadata": {
  "kernelspec": {
   "display_name": "Python 3",
   "language": "python",
   "name": "python3"
  },
  "language_info": {
   "codemirror_mode": {
    "name": "ipython",
    "version": 3
   },
   "file_extension": ".py",
   "mimetype": "text/x-python",
   "name": "python",
   "nbconvert_exporter": "python",
   "pygments_lexer": "ipython3",
   "version": "3.6.8"
  }
 },
 "nbformat": 4,
 "nbformat_minor": 2
}
