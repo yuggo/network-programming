{
 "cells": [
  {
   "cell_type": "code",
   "execution_count": null,
   "metadata": {},
   "outputs": [],
   "source": [
    "%load_ext autoreload\n",
    "%autoreload 2"
   ]
  },
  {
   "cell_type": "code",
   "execution_count": null,
   "metadata": {},
   "outputs": [],
   "source": [
    "from io import BytesIO\n",
    "from importlib import reload\n",
    "from lib import run"
   ]
  },
  {
   "cell_type": "markdown",
   "metadata": {},
   "source": [
    "# Refactor\n",
    "\n",
    "lib.py was refactored ... "
   ]
  },
  {
   "cell_type": "code",
   "execution_count": null,
   "metadata": {},
   "outputs": [],
   "source": [
    "ADDRESS = ('91.204.99.178', 8333)"
   ]
  },
  {
   "cell_type": "code",
   "execution_count": null,
   "metadata": {},
   "outputs": [],
   "source": [
    "from network import *\n",
    "\n",
    "peer = PeerConnection(*ADDRESS)\n",
    "\n",
    "peer.handshake()"
   ]
  },
  {
   "cell_type": "markdown",
   "metadata": {},
   "source": [
    "Our goal is initial block download on the first 10,000 bitcoin blocks. Bitcoin does initial block download by first downloading \"block headers\" -- which are blocks without the transactions -- and validating their hashes form and chain and that they satisfy bitcoin's proof of work requirements. Once the longest valid chain of block headers has been discovered and validated, then the bitcoin software proceeds to download and the full blocks -- block headers plus all the transactions. This takes a lot longer, but can be downloaded in parallel from multiple peers, which speeds up the process. \n",
    "\n",
    "First of all, we need to figure out how to download block headers. The bitcoin wiki tells us how: behold the We need to send a getheaders message to request the [`getheaders`](https://en.bitcoin.it/wiki/Protocol_documentation#getheaders) network message.\n",
    "\n",
    "# `getheaders`\n",
    "\n",
    "[network.py](./network.py) contains a stub for a `GetHeadersMessage` class. Let's fill it out so that we can send a `getheaders` message in the cell below and get a first batch of headers from a bitcoin peer."
   ]
  },
  {
   "cell_type": "code",
   "execution_count": null,
   "metadata": {},
   "outputs": [],
   "source": [
    "import network as network\n",
    "\n",
    "reload(network)\n",
    "run(network.GetHeadersMessageTest(\"test_serialize\"))"
   ]
  },
  {
   "cell_type": "markdown",
   "metadata": {},
   "source": [
    "Now that we have a class abstracting the `getheaders` message, let's put it to use. Use this message to get the next block after genesis ..."
   ]
  },
  {
   "cell_type": "code",
   "execution_count": null,
   "metadata": {
    "scrolled": true
   },
   "outputs": [],
   "source": [
    "from network import HeadersMessage as HeadersMessage\n",
    "\n",
    "# connect to peer\n",
    "peer = PeerConnection(*ADDRESS, logging=True)\n",
    "peer.handshake()\n",
    "\n",
    "# construct the message\n",
    "genesis_hash_hex = '000000000019d6689c085ae165831e934ff763ae46a2a6c172b3f1b60a8ce26f'\n",
    "genesis_hash_bytes = bytes.fromhex(genesis_hash_hex)\n",
    "getheaders = GetHeadersMessage(start_block=genesis_hash_bytes)\n",
    "\n",
    "# send the message\n",
    "peer.send(getheaders)\n",
    "\n",
    "# see what we get back\n",
    "while True:\n",
    "    peer.read()"
   ]
  },
  {
   "cell_type": "code",
   "execution_count": null,
   "metadata": {
    "scrolled": false
   },
   "outputs": [],
   "source": [
    "import network as network\n",
    "\n",
    "reload(network)\n",
    "run(network.HeadersMessageTest(\"test_parse\"))"
   ]
  },
  {
   "cell_type": "code",
   "execution_count": null,
   "metadata": {},
   "outputs": [],
   "source": [
    "from network import HeadersMessageInitial as HeadersMessage\n",
    "\n",
    "# construct the message\n",
    "genesis_hash_hex = '000000000019d6689c085ae165831e934ff763ae46a2a6c172b3f1b60a8ce26f'\n",
    "genesis_hash_bytes = bytes.fromhex(genesis_hash_hex)\n",
    "getheaders = GetHeadersMessage(start_block=genesis_hash_bytes)\n",
    "\n",
    "# send the message\n",
    "peer.send(getheaders)\n",
    "\n",
    "# wait for the \"headers\" response\n",
    "headers_payload = peer.wait_for(HeadersMessage)\n",
    "headers_payload"
   ]
  },
  {
   "cell_type": "markdown",
   "metadata": {},
   "source": [
    "Now that we need to learn to interpret the `headers` response we are getting. Let's implement `HeadersMessage.parse` to make this happen. If we look at the protocol docs we see that the payload of the `headers` message contains, as we should expect, block header objects. In order to implement `HeadersMessage.parse` we first need to implement implement a `BlockHeader` class with a `.parse` method which `HeadersMessage.parse` can call.\n",
    "\n",
    "### `BlockHeader`\n",
    "\n",
    "block.py has the stub of a `BlockHeader` class. Fill out the `BlockHeader.parse` method to get the test below to pass."
   ]
  },
  {
   "cell_type": "code",
   "execution_count": null,
   "metadata": {
    "scrolled": true
   },
   "outputs": [],
   "source": [
    "import network as network\n",
    "\n",
    "reload(network)\n",
    "run(network.HeadersMessageTest(\"test_parse\"))"
   ]
  },
  {
   "cell_type": "markdown",
   "metadata": {},
   "source": [
    "Now that we have a `HeadersMessage` that passes the tests, let's use it to interpret the `headers` payload bytes we received earlier:"
   ]
  },
  {
   "cell_type": "code",
   "execution_count": null,
   "metadata": {},
   "outputs": [],
   "source": [
    "from network import HeadersMessage\n",
    "\n",
    "headers_msg = HeadersMessage.parse(BytesIO(headers_payload))\n",
    "headers_msg.headers"
   ]
  },
  {
   "cell_type": "code",
   "execution_count": null,
   "metadata": {},
   "outputs": [],
   "source": [
    "headers_msg.headers[0]"
   ]
  },
  {
   "cell_type": "code",
   "execution_count": null,
   "metadata": {},
   "outputs": [],
   "source": [
    "headers_msg.headers[0].prev_block"
   ]
  },
  {
   "cell_type": "markdown",
   "metadata": {},
   "source": [
    "Very good! Now let's try to call this repeatedly and build up a chain of block headers:"
   ]
  },
  {
   "cell_type": "code",
   "execution_count": null,
   "metadata": {},
   "outputs": [],
   "source": [
    "from block import RAW_GENESIS_BLOCK\n",
    "\n",
    "# Create a list of headers with genesis block filled in\n",
    "GENESIS_BLOCK = BlockHeader.parse(BytesIO(RAW_GENESIS_BLOCK))\n",
    "headers = [GENESIS_BLOCK]\n",
    "\n",
    "# connect to our peer\n",
    "peer = PeerConnection(*ADDRESS)\n",
    "peer.handshake()\n",
    "\n",
    "while len(headers) < 10000:\n",
    "    # construct the message\n",
    "    getheaders = GetHeadersMessage(start_block=headers[-1].hash())\n",
    "\n",
    "    # send the message\n",
    "    peer.send(getheaders)\n",
    "\n",
    "    # wait for the \"headers\" response\n",
    "    headers_msg = peer.wait_for(HeadersMessage)\n",
    "    print(f'received {len(headers_msg.headers)} headers')\n",
    "    \n",
    "    # append block headers received to headers array\n",
    "    for header in headers_msg.headers:\n",
    "        headers.append(header)"
   ]
  },
  {
   "cell_type": "markdown",
   "metadata": {},
   "source": [
    "With a bit long list of block headers, we can now validate that they actually form a chain.\n",
    "\n",
    "The block id's that we are familiar from using block explorers aren't actually an attribute of the blocks themselves. \n",
    "\n",
    "![img](./genesis.png)\n",
    "\n",
    "![img](./block.png)\n",
    "\n",
    "Rather, they are derived from all the other fields listed above by SHA256 hashing the block twice, and interpreting this as a little-endian hexidecimal number.\n",
    "\n",
    "So we need to implement this in order to derive `BlockHeader` id's.\n",
    "\n",
    "For this we will need to implement three methods:\n",
    "- `BlockHeader.serialize` -- which turns a `BlockHeader` into `bytes`\n",
    "- `BlockHeader.hash` -- which SHA256 hashes result of `BlockHeader.serialize()` twice\n",
    "- `BlockHeader.id`: which interprets `BlockHeader.hash` as hexidecimal"
   ]
  },
  {
   "cell_type": "markdown",
   "metadata": {},
   "source": [
    "First, implement `BlockHeader.serialize` to get this test passing:"
   ]
  },
  {
   "cell_type": "code",
   "execution_count": null,
   "metadata": {},
   "outputs": [],
   "source": [
    "import block as block\n",
    "\n",
    "reload(block)\n",
    "run(block.BlockHeaderTest(\"test_serialize\"))"
   ]
  },
  {
   "cell_type": "markdown",
   "metadata": {},
   "source": [
    "Next, implement `BlockHeader.hash` to get this test passing:"
   ]
  },
  {
   "cell_type": "code",
   "execution_count": null,
   "metadata": {},
   "outputs": [],
   "source": [
    "import block as block\n",
    "\n",
    "reload(block)\n",
    "run(block.BlockHeaderTest(\"test_hash\"))"
   ]
  },
  {
   "cell_type": "markdown",
   "metadata": {},
   "source": [
    "Finally, implement `BlockHeader.id` to get this test passing:"
   ]
  },
  {
   "cell_type": "code",
   "execution_count": null,
   "metadata": {},
   "outputs": [],
   "source": [
    "import block as block\n",
    "\n",
    "reload(block)\n",
    "run(block.BlockHeaderTest(\"test_id\"))"
   ]
  },
  {
   "cell_type": "markdown",
   "metadata": {},
   "source": [
    "Now magically the headers we downloaded earlier have id's:"
   ]
  },
  {
   "cell_type": "code",
   "execution_count": null,
   "metadata": {
    "scrolled": true
   },
   "outputs": [],
   "source": [
    "for header in headers[:10]:\n",
    "    print(header.id())"
   ]
  },
  {
   "cell_type": "markdown",
   "metadata": {},
   "source": [
    "Let's verify that they form a chain. Since `BlockHeader.prev_block` is bytes let's use `BlockHeader.hash()` to compare these directly"
   ]
  },
  {
   "cell_type": "code",
   "execution_count": null,
   "metadata": {
    "scrolled": true
   },
   "outputs": [],
   "source": [
    "for height, header in enumerate(headers[1:], 1):\n",
    "    prev_header = headers[height-1]\n",
    "    assert header.prev_block == prev_header.hash()\n",
    "\n",
    "print('the chain is good!')"
   ]
  },
  {
   "cell_type": "markdown",
   "metadata": {},
   "source": [
    "### Proof-of-Work\n",
    "\n",
    "Now that we can validate the headers form a chain, let's validate the chain they form is ***valid***.\n",
    "\n",
    "A few things are involved here.\n",
    "\n",
    "First, we need to calculate the current difficulty. We take the `BlockHeader.bits` field and apply this formula: `coefficient * 256**(exponent - 3)`, where coefficient is the little-endian interpretation of the first 3 bytes of `BlockHeader.bits` and `exponent` is the last byte of `BlockHeader.bits`\n",
    "\n",
    "Fill out the `bits_to_target` function in `lib.py` to do this. Get the following test to pass:"
   ]
  },
  {
   "cell_type": "code",
   "execution_count": null,
   "metadata": {
    "scrolled": false
   },
   "outputs": [],
   "source": [
    "import lib as lib\n",
    "\n",
    "reload(lib)\n",
    "run(lib.LibraryTest(\"test_bits_to_target\"))"
   ]
  },
  {
   "cell_type": "markdown",
   "metadata": {},
   "source": [
    "Now that we can calculate the target for blocks headers, see if the `nonce` provided by the blocks leads to a hash that, when interpreted as a number, is less than the target.\n",
    "\n",
    "Update `BlockHeader.check_pow()` to get the following test to pass:"
   ]
  },
  {
   "cell_type": "code",
   "execution_count": null,
   "metadata": {},
   "outputs": [],
   "source": [
    "import block as block\n",
    "\n",
    "reload(block)\n",
    "run(block.BlockHeaderTest(\"test_check_pow\"))"
   ]
  },
  {
   "cell_type": "markdown",
   "metadata": {},
   "source": [
    "Now let's update our code that checked whether a chain was formed to also check that proof-of-work was satisifed for each block header."
   ]
  },
  {
   "cell_type": "code",
   "execution_count": null,
   "metadata": {},
   "outputs": [],
   "source": [
    "for height, header in enumerate(headers[1:], 1):\n",
    "    # check that a headers form a chain\n",
    "    prev_header = headers[height-1]\n",
    "    assert header.prev_block == prev_header.hash()\n",
    "\n",
    "    # check that headers satisfy proof-of-work\n",
    "    assert header.check_pow()\n",
    "\n",
    "print('the chain is good!')"
   ]
  },
  {
   "cell_type": "markdown",
   "metadata": {},
   "source": [
    "(also assert that `BlockHeader.bits` is always equal to the correct initial bits or something along these lines ...)"
   ]
  },
  {
   "cell_type": "markdown",
   "metadata": {},
   "source": [
    "# Fetching Blocks\n",
    "\n",
    "We now have a chain of block headers. It's time to get the full blocks -- namely, the blocks headers *plus the transactions*.\n",
    "\n",
    "To do this, we need to send a [`getdata`](https://en.bitcoin.it/wiki/Protocol_documentation#getdata) message. This message is how you look up stuff on the bitcoin p2p network. To use it, you must construct an [\"inventory vector\"](https://en.bitcoin.it/wiki/Protocol_documentation#Inventory_Vectors) containing entries for each of the objects you'd like to look up. An inventory vector is simple: each item contains the id of the whatever data you're requesting (in our case block hashes) and a marker indicating what type of data this is (e.g. block or transaction).\n",
    "\n"
   ]
  },
  {
   "cell_type": "code",
   "execution_count": null,
   "metadata": {},
   "outputs": [],
   "source": [
    "import network as network\n",
    "\n",
    "reload(network)\n",
    "run(network.GetDataMessageTest(\"test_serialize\"))"
   ]
  },
  {
   "cell_type": "markdown",
   "metadata": {},
   "source": [
    "Let's see what we get back when we send one of these:"
   ]
  },
  {
   "cell_type": "code",
   "execution_count": null,
   "metadata": {
    "scrolled": true
   },
   "outputs": [],
   "source": [
    "from network import GetDataMessage\n",
    "\n",
    "# connect to peer\n",
    "peer = PeerConnection(*ADDRESS, logging=True)\n",
    "peer.handshake()\n",
    "\n",
    "# send getdata\n",
    "getdata = GetDataMessage()\n",
    "getdata.add_block(headers[1].hash())\n",
    "peer.send(getdata)\n",
    "\n",
    "# see what we get back\n",
    "while True:\n",
    "    peer.read()"
   ]
  },
  {
   "cell_type": "markdown",
   "metadata": {},
   "source": [
    "# Parsing Blocks\n",
    "\n",
    "Next, we need to be able to parse full blocks.\n",
    "\n",
    "This is involved. Blocks contain transactions, so we will need to parse transactions to pull this off.\n",
    "\n",
    "Since I think you are beginning to get the idea we won't write all the code but we'll write some parsing code for each thing ..."
   ]
  },
  {
   "cell_type": "code",
   "execution_count": null,
   "metadata": {
    "scrolled": true
   },
   "outputs": [],
   "source": [
    "import tx as tx\n",
    "\n",
    "reload(tx)\n",
    "run(tx.TxTest(\"test_parse_version\"))"
   ]
  },
  {
   "cell_type": "code",
   "execution_count": null,
   "metadata": {},
   "outputs": [],
   "source": [
    "import script as script\n",
    "\n",
    "reload(script)\n",
    "run(script.ScriptTest(\"test_parse\"))"
   ]
  },
  {
   "cell_type": "code",
   "execution_count": null,
   "metadata": {},
   "outputs": [],
   "source": [
    "import tx as tx\n",
    "\n",
    "reload(tx)\n",
    "run(tx.TxTest(\"test_parse_inputs\"))"
   ]
  },
  {
   "cell_type": "code",
   "execution_count": null,
   "metadata": {},
   "outputs": [],
   "source": [
    "import tx as tx\n",
    "\n",
    "reload(tx)\n",
    "run(tx.TxTest(\"test_parse_outputs\"))"
   ]
  },
  {
   "cell_type": "code",
   "execution_count": null,
   "metadata": {
    "scrolled": true
   },
   "outputs": [],
   "source": [
    "import tx as tx\n",
    "\n",
    "reload(tx)\n",
    "run(tx.TxTest(\"test_parse_locktime\"))"
   ]
  },
  {
   "cell_type": "markdown",
   "metadata": {},
   "source": [
    "Now we can parse blocks. Implement `Block.parse` and get this test to pass:"
   ]
  },
  {
   "cell_type": "code",
   "execution_count": null,
   "metadata": {},
   "outputs": [],
   "source": [
    "import block as block\n",
    "\n",
    "reload(block)\n",
    "run(block.BlockTest(\"test_parse\"))"
   ]
  },
  {
   "cell_type": "code",
   "execution_count": null,
   "metadata": {},
   "outputs": [],
   "source": [
    "import network as network\n",
    "\n",
    "reload(network)\n",
    "run(network.BlockMessageTest(\"test_parse\"))"
   ]
  },
  {
   "cell_type": "code",
   "execution_count": null,
   "metadata": {},
   "outputs": [],
   "source": [
    "from network import BlockMessage\n",
    "\n",
    "# connect to peer\n",
    "peer = PeerConnection(*ADDRESS)\n",
    "peer.handshake()\n",
    "\n",
    "# send getdata\n",
    "getdata = GetDataMessage()\n",
    "getdata.add_block(headers[1].hash())\n",
    "peer.send(getdata)\n",
    "\n",
    "# wait for the block message\n",
    "block_msg = peer.wait_for(BlockMessage)\n",
    "block_msg"
   ]
  },
  {
   "cell_type": "code",
   "execution_count": null,
   "metadata": {},
   "outputs": [],
   "source": [
    "block = block_msg.block\n",
    "block"
   ]
  },
  {
   "cell_type": "code",
   "execution_count": null,
   "metadata": {},
   "outputs": [],
   "source": [
    "block.txns"
   ]
  },
  {
   "cell_type": "code",
   "execution_count": null,
   "metadata": {
    "scrolled": true
   },
   "outputs": [],
   "source": [
    "block.txns[0].tx_ins"
   ]
  },
  {
   "cell_type": "code",
   "execution_count": null,
   "metadata": {},
   "outputs": [],
   "source": [
    "# first bitcoin ever mined ...\n",
    "block.txns[0].tx_outs[0]"
   ]
  },
  {
   "cell_type": "markdown",
   "metadata": {},
   "source": [
    "Now let's download the blocks corresponding to the block headers we downloaded earlier"
   ]
  },
  {
   "cell_type": "code",
   "execution_count": null,
   "metadata": {},
   "outputs": [],
   "source": [
    "from block import Block, RAW_GENESIS_BLOCK\n",
    "\n",
    "# Create a list of headers with genesis block filled in\n",
    "GENESIS_BLOCK = Block.parse(BytesIO(RAW_GENESIS_BLOCK))\n",
    "blocks = [GENESIS_BLOCK]\n",
    "\n",
    "# connect to peer\n",
    "peer = PeerConnection(*ADDRESS)\n",
    "peer.handshake()\n",
    "\n",
    "header_index = 1\n",
    "\n",
    "header_slice = headers[:500]\n",
    "\n",
    "while header_index <= len(header_slice):\n",
    "    # prepare and send getdata requesting 100 blocks\n",
    "    getdata = GetDataMessage()\n",
    "    chunk = headers[header_index:header_index+100]\n",
    "    for header in chunk:\n",
    "        getdata.add_block(header.hash())\n",
    "    peer.send(getdata)\n",
    "    \n",
    "    # wait for 100 blocks to arrive, add to our list of blocks\n",
    "    for _ in chunk:\n",
    "        block_msg = peer.wait_for(BlockMessage)\n",
    "        blocks.append(block_msg.block)\n",
    "        \n",
    "    header_index += len(chunk)\n",
    "\n",
    "    print(len(blocks))"
   ]
  },
  {
   "cell_type": "code",
   "execution_count": null,
   "metadata": {},
   "outputs": [],
   "source": [
    "# the headers match, which guarantees all other \n",
    "# BlockHeaders attributes match too\n",
    "\n",
    "for i in range(len(header_slice)):\n",
    "    assert headers[i].hash() == blocks[i].hash()"
   ]
  },
  {
   "cell_type": "markdown",
   "metadata": {},
   "source": [
    "Let's make a `Blockchain` class to abstract everything we've learned so far "
   ]
  },
  {
   "cell_type": "code",
   "execution_count": null,
   "metadata": {},
   "outputs": [],
   "source": []
  }
 ],
 "metadata": {
  "kernelspec": {
   "display_name": "Python 3",
   "language": "python",
   "name": "python3"
  },
  "language_info": {
   "codemirror_mode": {
    "name": "ipython",
    "version": 3
   },
   "file_extension": ".py",
   "mimetype": "text/x-python",
   "name": "python",
   "nbconvert_exporter": "python",
   "pygments_lexer": "ipython3",
   "version": "3.7.2"
  }
 },
 "nbformat": 4,
 "nbformat_minor": 2
}
